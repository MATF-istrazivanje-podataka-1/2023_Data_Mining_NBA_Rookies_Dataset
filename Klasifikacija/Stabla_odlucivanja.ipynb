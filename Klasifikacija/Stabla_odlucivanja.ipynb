{
 "cells": [
  {
   "cell_type": "code",
   "execution_count": 1,
   "id": "95918acb",
   "metadata": {},
   "outputs": [],
   "source": [
    "from sklearn.model_selection import train_test_split,cross_val_score,GridSearchCV\n",
    "from sklearn.tree import DecisionTreeClassifier\n",
    "from sklearn.ensemble import RandomForestClassifier\n",
    "import pandas as pd\n",
    "import numpy as np\n",
    "import matplotlib.pyplot as plt\n",
    "from sklearn.metrics import confusion_matrix, accuracy_score, f1_score, roc_auc_score"
   ]
  },
  {
   "cell_type": "code",
   "execution_count": 2,
   "id": "b087aaf1",
   "metadata": {},
   "outputs": [],
   "source": [
    "data=pd.read_csv('nba_logreg.csv')"
   ]
  },
  {
   "cell_type": "code",
   "execution_count": 3,
   "id": "4c7592dd",
   "metadata": {},
   "outputs": [],
   "source": [
    "data=data.fillna(0.0)"
   ]
  },
  {
   "cell_type": "code",
   "execution_count": 4,
   "id": "5724dfb7",
   "metadata": {},
   "outputs": [],
   "source": [
    "data=data.drop_duplicates()"
   ]
  },
  {
   "cell_type": "code",
   "execution_count": 5,
   "id": "74bcd0ff",
   "metadata": {},
   "outputs": [],
   "source": [
    "imenjaci=data.duplicated(subset=['name','gp','min','pts'],keep=False)"
   ]
  },
  {
   "cell_type": "code",
   "execution_count": 6,
   "id": "6aea26e9",
   "metadata": {},
   "outputs": [
    {
     "data": {
      "text/plain": [
       "Int64Index([  18,   19,   71,   72,   73,   74,  120,  121,  126,  127,  156,\n",
       "             157,  158,  159,  162,  164,  165,  167,  168,  170,  223,  224,\n",
       "             225,  226,  364,  365,  367,  368,  472,  473,  553,  554,  848,\n",
       "             849,  870,  871, 1126, 1127, 1229, 1230],\n",
       "           dtype='int64')"
      ]
     },
     "execution_count": 6,
     "metadata": {},
     "output_type": "execute_result"
    }
   ],
   "source": [
    "imenjaci1=data.loc[imenjaci]\n",
    "imenjaci1.index"
   ]
  },
  {
   "cell_type": "code",
   "execution_count": 7,
   "id": "9f6b611c",
   "metadata": {},
   "outputs": [],
   "source": [
    "data.drop(index=(imenjaci1.index),inplace=True)"
   ]
  },
  {
   "cell_type": "code",
   "execution_count": 35,
   "id": "84d5c954",
   "metadata": {},
   "outputs": [],
   "source": [
    "Y=data['target_5yrs']\n",
    "X=data.drop('target_5yrs',axis=1)\n",
    "X=X.drop(['fg','3p','ft','reb','name'],axis=1)"
   ]
  },
  {
   "cell_type": "code",
   "execution_count": 36,
   "id": "bacc4403",
   "metadata": {},
   "outputs": [],
   "source": [
    "x_train,x_test,y_train,y_test=train_test_split(X,Y,test_size=0.20,stratify=Y)"
   ]
  },
  {
   "cell_type": "code",
   "execution_count": 37,
   "id": "a4a5cc42",
   "metadata": {},
   "outputs": [
    {
     "data": {
      "text/html": [
       "<style>#sk-container-id-6 {color: black;background-color: white;}#sk-container-id-6 pre{padding: 0;}#sk-container-id-6 div.sk-toggleable {background-color: white;}#sk-container-id-6 label.sk-toggleable__label {cursor: pointer;display: block;width: 100%;margin-bottom: 0;padding: 0.3em;box-sizing: border-box;text-align: center;}#sk-container-id-6 label.sk-toggleable__label-arrow:before {content: \"▸\";float: left;margin-right: 0.25em;color: #696969;}#sk-container-id-6 label.sk-toggleable__label-arrow:hover:before {color: black;}#sk-container-id-6 div.sk-estimator:hover label.sk-toggleable__label-arrow:before {color: black;}#sk-container-id-6 div.sk-toggleable__content {max-height: 0;max-width: 0;overflow: hidden;text-align: left;background-color: #f0f8ff;}#sk-container-id-6 div.sk-toggleable__content pre {margin: 0.2em;color: black;border-radius: 0.25em;background-color: #f0f8ff;}#sk-container-id-6 input.sk-toggleable__control:checked~div.sk-toggleable__content {max-height: 200px;max-width: 100%;overflow: auto;}#sk-container-id-6 input.sk-toggleable__control:checked~label.sk-toggleable__label-arrow:before {content: \"▾\";}#sk-container-id-6 div.sk-estimator input.sk-toggleable__control:checked~label.sk-toggleable__label {background-color: #d4ebff;}#sk-container-id-6 div.sk-label input.sk-toggleable__control:checked~label.sk-toggleable__label {background-color: #d4ebff;}#sk-container-id-6 input.sk-hidden--visually {border: 0;clip: rect(1px 1px 1px 1px);clip: rect(1px, 1px, 1px, 1px);height: 1px;margin: -1px;overflow: hidden;padding: 0;position: absolute;width: 1px;}#sk-container-id-6 div.sk-estimator {font-family: monospace;background-color: #f0f8ff;border: 1px dotted black;border-radius: 0.25em;box-sizing: border-box;margin-bottom: 0.5em;}#sk-container-id-6 div.sk-estimator:hover {background-color: #d4ebff;}#sk-container-id-6 div.sk-parallel-item::after {content: \"\";width: 100%;border-bottom: 1px solid gray;flex-grow: 1;}#sk-container-id-6 div.sk-label:hover label.sk-toggleable__label {background-color: #d4ebff;}#sk-container-id-6 div.sk-serial::before {content: \"\";position: absolute;border-left: 1px solid gray;box-sizing: border-box;top: 0;bottom: 0;left: 50%;z-index: 0;}#sk-container-id-6 div.sk-serial {display: flex;flex-direction: column;align-items: center;background-color: white;padding-right: 0.2em;padding-left: 0.2em;position: relative;}#sk-container-id-6 div.sk-item {position: relative;z-index: 1;}#sk-container-id-6 div.sk-parallel {display: flex;align-items: stretch;justify-content: center;background-color: white;position: relative;}#sk-container-id-6 div.sk-item::before, #sk-container-id-6 div.sk-parallel-item::before {content: \"\";position: absolute;border-left: 1px solid gray;box-sizing: border-box;top: 0;bottom: 0;left: 50%;z-index: -1;}#sk-container-id-6 div.sk-parallel-item {display: flex;flex-direction: column;z-index: 1;position: relative;background-color: white;}#sk-container-id-6 div.sk-parallel-item:first-child::after {align-self: flex-end;width: 50%;}#sk-container-id-6 div.sk-parallel-item:last-child::after {align-self: flex-start;width: 50%;}#sk-container-id-6 div.sk-parallel-item:only-child::after {width: 0;}#sk-container-id-6 div.sk-dashed-wrapped {border: 1px dashed gray;margin: 0 0.4em 0.5em 0.4em;box-sizing: border-box;padding-bottom: 0.4em;background-color: white;}#sk-container-id-6 div.sk-label label {font-family: monospace;font-weight: bold;display: inline-block;line-height: 1.2em;}#sk-container-id-6 div.sk-label-container {text-align: center;}#sk-container-id-6 div.sk-container {/* jupyter's `normalize.less` sets `[hidden] { display: none; }` but bootstrap.min.css set `[hidden] { display: none !important; }` so we also need the `!important` here to be able to override the default hidden behavior on the sphinx rendered scikit-learn.org. See: https://github.com/scikit-learn/scikit-learn/issues/21755 */display: inline-block !important;position: relative;}#sk-container-id-6 div.sk-text-repr-fallback {display: none;}</style><div id=\"sk-container-id-6\" class=\"sk-top-container\"><div class=\"sk-text-repr-fallback\"><pre>DecisionTreeClassifier(random_state=69)</pre><b>In a Jupyter environment, please rerun this cell to show the HTML representation or trust the notebook. <br />On GitHub, the HTML representation is unable to render, please try loading this page with nbviewer.org.</b></div><div class=\"sk-container\" hidden><div class=\"sk-item\"><div class=\"sk-estimator sk-toggleable\"><input class=\"sk-toggleable__control sk-hidden--visually\" id=\"sk-estimator-id-10\" type=\"checkbox\" checked><label for=\"sk-estimator-id-10\" class=\"sk-toggleable__label sk-toggleable__label-arrow\">DecisionTreeClassifier</label><div class=\"sk-toggleable__content\"><pre>DecisionTreeClassifier(random_state=69)</pre></div></div></div></div></div>"
      ],
      "text/plain": [
       "DecisionTreeClassifier(random_state=69)"
      ]
     },
     "execution_count": 37,
     "metadata": {},
     "output_type": "execute_result"
    }
   ],
   "source": [
    "model=DecisionTreeClassifier(random_state=69)\n",
    "model.fit(x_train,y_train)"
   ]
  },
  {
   "cell_type": "code",
   "execution_count": 38,
   "id": "3bd8bc90",
   "metadata": {},
   "outputs": [],
   "source": [
    "rez=cross_val_score(model,x_test,y_test,cv=10,scoring='roc_auc')"
   ]
  },
  {
   "cell_type": "code",
   "execution_count": 39,
   "id": "2e4ffb2f",
   "metadata": {},
   "outputs": [
    {
     "data": {
      "text/plain": [
       "0.606172385620915"
      ]
     },
     "execution_count": 39,
     "metadata": {},
     "output_type": "execute_result"
    }
   ],
   "source": [
    "from numpy import mean\n",
    "mean(rez)"
   ]
  },
  {
   "cell_type": "code",
   "execution_count": 40,
   "id": "e0c4224f",
   "metadata": {
    "scrolled": true
   },
   "outputs": [
    {
     "data": {
      "image/png": "[encoded data removed]",
      "text/plain": [
       "<Figure size 640x480 with 1 Axes>"
      ]
     },
     "metadata": {},
     "output_type": "display_data"
    }
   ],
   "source": [
    "pd.Series(model.feature_importances_, index=X.columns).plot.barh()\n",
    "plt.title(\"Feature importance\")\n",
    "plt.show()"
   ]
  },
  {
   "cell_type": "code",
   "execution_count": 41,
   "id": "83f8320a",
   "metadata": {},
   "outputs": [],
   "source": [
    "params = {'criterion': ['gini', 'entropy'],\n",
    "          'max_depth': [2,4,6, 8]\n",
    "         }\n",
    "estimator = GridSearchCV(DecisionTreeClassifier(), param_grid=params, cv=10,verbose=2)"
   ]
  },
  {
   "cell_type": "code",
   "execution_count": 42,
   "id": "2bc31330",
   "metadata": {
    "scrolled": true
   },
   "outputs": [
    {
     "name": "stdout",
     "output_type": "stream",
     "text": [
      "Fitting 10 folds for each of 8 candidates, totalling 80 fits\n",
      "[CV] END ........................criterion=gini, max_depth=2; total time=   0.0s\n",
      "[CV] END ........................criterion=gini, max_depth=2; total time=   0.0s\n",
      "[CV] END ........................criterion=gini, max_depth=2; total time=   0.0s\n",
      "[CV] END ........................criterion=gini, max_depth=2; total time=   0.0s\n",
      "[CV] END ........................criterion=gini, max_depth=2; total time=   0.0s\n",
      "[CV] END ........................criterion=gini, max_depth=2; total time=   0.0s\n",
      "[CV] END ........................criterion=gini, max_depth=2; total time=   0.0s\n",
      "[CV] END ........................criterion=gini, max_depth=2; total time=   0.0s\n",
      "[CV] END ........................criterion=gini, max_depth=2; total time=   0.0s\n",
      "[CV] END ........................criterion=gini, max_depth=2; total time=   0.0s\n",
      "[CV] END ........................criterion=gini, max_depth=4; total time=   0.0s\n",
      "[CV] END ........................criterion=gini, max_depth=4; total time=   0.0s\n",
      "[CV] END ........................criterion=gini, max_depth=4; total time=   0.0s\n",
      "[CV] END ........................criterion=gini, max_depth=4; total time=   0.0s\n",
      "[CV] END ........................criterion=gini, max_depth=4; total time=   0.0s\n",
      "[CV] END ........................criterion=gini, max_depth=4; total time=   0.0s\n",
      "[CV] END ........................criterion=gini, max_depth=4; total time=   0.0s\n",
      "[CV] END ........................criterion=gini, max_depth=4; total time=   0.0s\n",
      "[CV] END ........................criterion=gini, max_depth=4; total time=   0.0s\n",
      "[CV] END ........................criterion=gini, max_depth=4; total time=   0.0s\n",
      "[CV] END ........................criterion=gini, max_depth=6; total time=   0.0s\n",
      "[CV] END ........................criterion=gini, max_depth=6; total time=   0.0s\n",
      "[CV] END ........................criterion=gini, max_depth=6; total time=   0.0s\n",
      "[CV] END ........................criterion=gini, max_depth=6; total time=   0.0s\n",
      "[CV] END ........................criterion=gini, max_depth=6; total time=   0.0s\n",
      "[CV] END ........................criterion=gini, max_depth=6; total time=   0.0s\n",
      "[CV] END ........................criterion=gini, max_depth=6; total time=   0.0s\n",
      "[CV] END ........................criterion=gini, max_depth=6; total time=   0.0s\n",
      "[CV] END ........................criterion=gini, max_depth=6; total time=   0.0s\n",
      "[CV] END ........................criterion=gini, max_depth=6; total time=   0.0s\n",
      "[CV] END ........................criterion=gini, max_depth=8; total time=   0.0s\n",
      "[CV] END ........................criterion=gini, max_depth=8; total time=   0.0s\n",
      "[CV] END ........................criterion=gini, max_depth=8; total time=   0.0s\n",
      "[CV] END ........................criterion=gini, max_depth=8; total time=   0.0s\n",
      "[CV] END ........................criterion=gini, max_depth=8; total time=   0.0s\n",
      "[CV] END ........................criterion=gini, max_depth=8; total time=   0.0s\n",
      "[CV] END ........................criterion=gini, max_depth=8; total time=   0.0s\n",
      "[CV] END ........................criterion=gini, max_depth=8; total time=   0.0s\n",
      "[CV] END ........................criterion=gini, max_depth=8; total time=   0.0s\n",
      "[CV] END ........................criterion=gini, max_depth=8; total time=   0.0s\n",
      "[CV] END .....................criterion=entropy, max_depth=2; total time=   0.0s\n",
      "[CV] END .....................criterion=entropy, max_depth=2; total time=   0.0s\n",
      "[CV] END .....................criterion=entropy, max_depth=2; total time=   0.0s\n",
      "[CV] END .....................criterion=entropy, max_depth=2; total time=   0.0s\n",
      "[CV] END .....................criterion=entropy, max_depth=2; total time=   0.0s\n",
      "[CV] END .....................criterion=entropy, max_depth=2; total time=   0.0s\n",
      "[CV] END .....................criterion=entropy, max_depth=2; total time=   0.0s\n",
      "[CV] END .....................criterion=entropy, max_depth=2; total time=   0.0s\n",
      "[CV] END .....................criterion=entropy, max_depth=2; total time=   0.0s\n",
      "[CV] END .....................criterion=entropy, max_depth=2; total time=   0.0s\n",
      "[CV] END .....................criterion=entropy, max_depth=4; total time=   0.0s\n",
      "[CV] END .....................criterion=entropy, max_depth=4; total time=   0.0s\n",
      "[CV] END .....................criterion=entropy, max_depth=4; total time=   0.0s\n",
      "[CV] END .....................criterion=entropy, max_depth=4; total time=   0.0s\n",
      "[CV] END .....................criterion=entropy, max_depth=4; total time=   0.0s\n",
      "[CV] END .....................criterion=entropy, max_depth=4; total time=   0.0s\n",
      "[CV] END .....................criterion=entropy, max_depth=4; total time=   0.0s\n",
      "[CV] END .....................criterion=entropy, max_depth=4; total time=   0.0s\n",
      "[CV] END .....................criterion=entropy, max_depth=4; total time=   0.0s\n",
      "[CV] END .....................criterion=entropy, max_depth=4; total time=   0.0s\n",
      "[CV] END .....................criterion=entropy, max_depth=6; total time=   0.0s\n",
      "[CV] END .....................criterion=entropy, max_depth=6; total time=   0.0s\n",
      "[CV] END .....................criterion=entropy, max_depth=6; total time=   0.0s\n",
      "[CV] END .....................criterion=entropy, max_depth=6; total time=   0.0s\n",
      "[CV] END .....................criterion=entropy, max_depth=6; total time=   0.0s\n",
      "[CV] END .....................criterion=entropy, max_depth=6; total time=   0.0s\n",
      "[CV] END .....................criterion=entropy, max_depth=6; total time=   0.0s\n",
      "[CV] END .....................criterion=entropy, max_depth=6; total time=   0.0s\n",
      "[CV] END .....................criterion=entropy, max_depth=6; total time=   0.0s\n",
      "[CV] END .....................criterion=entropy, max_depth=6; total time=   0.0s\n",
      "[CV] END .....................criterion=entropy, max_depth=8; total time=   0.0s\n",
      "[CV] END .....................criterion=entropy, max_depth=8; total time=   0.0s\n",
      "[CV] END .....................criterion=entropy, max_depth=8; total time=   0.0s\n",
      "[CV] END .....................criterion=entropy, max_depth=8; total time=   0.0s\n",
      "[CV] END .....................criterion=entropy, max_depth=8; total time=   0.0s\n",
      "[CV] END .....................criterion=entropy, max_depth=8; total time=   0.0s\n",
      "[CV] END .....................criterion=entropy, max_depth=8; total time=   0.0s\n",
      "[CV] END .....................criterion=entropy, max_depth=8; total time=   0.0s\n",
      "[CV] END .....................criterion=entropy, max_depth=8; total time=   0.0s\n",
      "[CV] END .....................criterion=entropy, max_depth=8; total time=   0.0s\n"
     ]
    },
    {
     "data": {
      "text/html": [
       "<style>#sk-container-id-7 {color: black;background-color: white;}#sk-container-id-7 pre{padding: 0;}#sk-container-id-7 div.sk-toggleable {background-color: white;}#sk-container-id-7 label.sk-toggleable__label {cursor: pointer;display: block;width: 100%;margin-bottom: 0;padding: 0.3em;box-sizing: border-box;text-align: center;}#sk-container-id-7 label.sk-toggleable__label-arrow:before {content: \"▸\";float: left;margin-right: 0.25em;color: #696969;}#sk-container-id-7 label.sk-toggleable__label-arrow:hover:before {color: black;}#sk-container-id-7 div.sk-estimator:hover label.sk-toggleable__label-arrow:before {color: black;}#sk-container-id-7 div.sk-toggleable__content {max-height: 0;max-width: 0;overflow: hidden;text-align: left;background-color: #f0f8ff;}#sk-container-id-7 div.sk-toggleable__content pre {margin: 0.2em;color: black;border-radius: 0.25em;background-color: #f0f8ff;}#sk-container-id-7 input.sk-toggleable__control:checked~div.sk-toggleable__content {max-height: 200px;max-width: 100%;overflow: auto;}#sk-container-id-7 input.sk-toggleable__control:checked~label.sk-toggleable__label-arrow:before {content: \"▾\";}#sk-container-id-7 div.sk-estimator input.sk-toggleable__control:checked~label.sk-toggleable__label {background-color: #d4ebff;}#sk-container-id-7 div.sk-label input.sk-toggleable__control:checked~label.sk-toggleable__label {background-color: #d4ebff;}#sk-container-id-7 input.sk-hidden--visually {border: 0;clip: rect(1px 1px 1px 1px);clip: rect(1px, 1px, 1px, 1px);height: 1px;margin: -1px;overflow: hidden;padding: 0;position: absolute;width: 1px;}#sk-container-id-7 div.sk-estimator {font-family: monospace;background-color: #f0f8ff;border: 1px dotted black;border-radius: 0.25em;box-sizing: border-box;margin-bottom: 0.5em;}#sk-container-id-7 div.sk-estimator:hover {background-color: #d4ebff;}#sk-container-id-7 div.sk-parallel-item::after {content: \"\";width: 100%;border-bottom: 1px solid gray;flex-grow: 1;}#sk-container-id-7 div.sk-label:hover label.sk-toggleable__label {background-color: #d4ebff;}#sk-container-id-7 div.sk-serial::before {content: \"\";position: absolute;border-left: 1px solid gray;box-sizing: border-box;top: 0;bottom: 0;left: 50%;z-index: 0;}#sk-container-id-7 div.sk-serial {display: flex;flex-direction: column;align-items: center;background-color: white;padding-right: 0.2em;padding-left: 0.2em;position: relative;}#sk-container-id-7 div.sk-item {position: relative;z-index: 1;}#sk-container-id-7 div.sk-parallel {display: flex;align-items: stretch;justify-content: center;background-color: white;position: relative;}#sk-container-id-7 div.sk-item::before, #sk-container-id-7 div.sk-parallel-item::before {content: \"\";position: absolute;border-left: 1px solid gray;box-sizing: border-box;top: 0;bottom: 0;left: 50%;z-index: -1;}#sk-container-id-7 div.sk-parallel-item {display: flex;flex-direction: column;z-index: 1;position: relative;background-color: white;}#sk-container-id-7 div.sk-parallel-item:first-child::after {align-self: flex-end;width: 50%;}#sk-container-id-7 div.sk-parallel-item:last-child::after {align-self: flex-start;width: 50%;}#sk-container-id-7 div.sk-parallel-item:only-child::after {width: 0;}#sk-container-id-7 div.sk-dashed-wrapped {border: 1px dashed gray;margin: 0 0.4em 0.5em 0.4em;box-sizing: border-box;padding-bottom: 0.4em;background-color: white;}#sk-container-id-7 div.sk-label label {font-family: monospace;font-weight: bold;display: inline-block;line-height: 1.2em;}#sk-container-id-7 div.sk-label-container {text-align: center;}#sk-container-id-7 div.sk-container {/* jupyter's `normalize.less` sets `[hidden] { display: none; }` but bootstrap.min.css set `[hidden] { display: none !important; }` so we also need the `!important` here to be able to override the default hidden behavior on the sphinx rendered scikit-learn.org. See: https://github.com/scikit-learn/scikit-learn/issues/21755 */display: inline-block !important;position: relative;}#sk-container-id-7 div.sk-text-repr-fallback {display: none;}</style><div id=\"sk-container-id-7\" class=\"sk-top-container\"><div class=\"sk-text-repr-fallback\"><pre>GridSearchCV(cv=10, estimator=DecisionTreeClassifier(),\n",
       "             param_grid={&#x27;criterion&#x27;: [&#x27;gini&#x27;, &#x27;entropy&#x27;],\n",
       "                         &#x27;max_depth&#x27;: [2, 4, 6, 8]},\n",
       "             verbose=2)</pre><b>In a Jupyter environment, please rerun this cell to show the HTML representation or trust the notebook. <br />On GitHub, the HTML representation is unable to render, please try loading this page with nbviewer.org.</b></div><div class=\"sk-container\" hidden><div class=\"sk-item sk-dashed-wrapped\"><div class=\"sk-label-container\"><div class=\"sk-label sk-toggleable\"><input class=\"sk-toggleable__control sk-hidden--visually\" id=\"sk-estimator-id-11\" type=\"checkbox\" ><label for=\"sk-estimator-id-11\" class=\"sk-toggleable__label sk-toggleable__label-arrow\">GridSearchCV</label><div class=\"sk-toggleable__content\"><pre>GridSearchCV(cv=10, estimator=DecisionTreeClassifier(),\n",
       "             param_grid={&#x27;criterion&#x27;: [&#x27;gini&#x27;, &#x27;entropy&#x27;],\n",
       "                         &#x27;max_depth&#x27;: [2, 4, 6, 8]},\n",
       "             verbose=2)</pre></div></div></div><div class=\"sk-parallel\"><div class=\"sk-parallel-item\"><div class=\"sk-item\"><div class=\"sk-label-container\"><div class=\"sk-label sk-toggleable\"><input class=\"sk-toggleable__control sk-hidden--visually\" id=\"sk-estimator-id-12\" type=\"checkbox\" ><label for=\"sk-estimator-id-12\" class=\"sk-toggleable__label sk-toggleable__label-arrow\">estimator: DecisionTreeClassifier</label><div class=\"sk-toggleable__content\"><pre>DecisionTreeClassifier()</pre></div></div></div><div class=\"sk-serial\"><div class=\"sk-item\"><div class=\"sk-estimator sk-toggleable\"><input class=\"sk-toggleable__control sk-hidden--visually\" id=\"sk-estimator-id-13\" type=\"checkbox\" ><label for=\"sk-estimator-id-13\" class=\"sk-toggleable__label sk-toggleable__label-arrow\">DecisionTreeClassifier</label><div class=\"sk-toggleable__content\"><pre>DecisionTreeClassifier()</pre></div></div></div></div></div></div></div></div></div></div>"
      ],
      "text/plain": [
       "GridSearchCV(cv=10, estimator=DecisionTreeClassifier(),\n",
       "             param_grid={'criterion': ['gini', 'entropy'],\n",
       "                         'max_depth': [2, 4, 6, 8]},\n",
       "             verbose=2)"
      ]
     },
     "execution_count": 42,
     "metadata": {},
     "output_type": "execute_result"
    }
   ],
   "source": [
    "estimator.fit(x_train, y_train)"
   ]
  },
  {
   "cell_type": "code",
   "execution_count": 43,
   "id": "b064a3b4",
   "metadata": {},
   "outputs": [
    {
     "data": {
      "text/plain": [
       "{'criterion': 'gini', 'max_depth': 4}"
      ]
     },
     "execution_count": 43,
     "metadata": {},
     "output_type": "execute_result"
    }
   ],
   "source": [
    "estimator.best_params_"
   ]
  },
  {
   "cell_type": "code",
   "execution_count": 44,
   "id": "3f0c3f10",
   "metadata": {},
   "outputs": [
    {
     "data": {
      "text/plain": [
       "0.6815533980582524"
      ]
     },
     "execution_count": 44,
     "metadata": {},
     "output_type": "execute_result"
    }
   ],
   "source": [
    "estimator.best_score_"
   ]
  },
  {
   "cell_type": "code",
   "execution_count": 45,
   "id": "c64f69c2",
   "metadata": {},
   "outputs": [],
   "source": [
    "random_forest=RandomForestClassifier(n_estimators=200,max_depth=10,random_state=71,criterion='log_loss')"
   ]
  },
  {
   "cell_type": "code",
   "execution_count": 46,
   "id": "fae93f31",
   "metadata": {},
   "outputs": [
    {
     "data": {
      "text/html": [
       "<style>#sk-container-id-8 {color: black;background-color: white;}#sk-container-id-8 pre{padding: 0;}#sk-container-id-8 div.sk-toggleable {background-color: white;}#sk-container-id-8 label.sk-toggleable__label {cursor: pointer;display: block;width: 100%;margin-bottom: 0;padding: 0.3em;box-sizing: border-box;text-align: center;}#sk-container-id-8 label.sk-toggleable__label-arrow:before {content: \"▸\";float: left;margin-right: 0.25em;color: #696969;}#sk-container-id-8 label.sk-toggleable__label-arrow:hover:before {color: black;}#sk-container-id-8 div.sk-estimator:hover label.sk-toggleable__label-arrow:before {color: black;}#sk-container-id-8 div.sk-toggleable__content {max-height: 0;max-width: 0;overflow: hidden;text-align: left;background-color: #f0f8ff;}#sk-container-id-8 div.sk-toggleable__content pre {margin: 0.2em;color: black;border-radius: 0.25em;background-color: #f0f8ff;}#sk-container-id-8 input.sk-toggleable__control:checked~div.sk-toggleable__content {max-height: 200px;max-width: 100%;overflow: auto;}#sk-container-id-8 input.sk-toggleable__control:checked~label.sk-toggleable__label-arrow:before {content: \"▾\";}#sk-container-id-8 div.sk-estimator input.sk-toggleable__control:checked~label.sk-toggleable__label {background-color: #d4ebff;}#sk-container-id-8 div.sk-label input.sk-toggleable__control:checked~label.sk-toggleable__label {background-color: #d4ebff;}#sk-container-id-8 input.sk-hidden--visually {border: 0;clip: rect(1px 1px 1px 1px);clip: rect(1px, 1px, 1px, 1px);height: 1px;margin: -1px;overflow: hidden;padding: 0;position: absolute;width: 1px;}#sk-container-id-8 div.sk-estimator {font-family: monospace;background-color: #f0f8ff;border: 1px dotted black;border-radius: 0.25em;box-sizing: border-box;margin-bottom: 0.5em;}#sk-container-id-8 div.sk-estimator:hover {background-color: #d4ebff;}#sk-container-id-8 div.sk-parallel-item::after {content: \"\";width: 100%;border-bottom: 1px solid gray;flex-grow: 1;}#sk-container-id-8 div.sk-label:hover label.sk-toggleable__label {background-color: #d4ebff;}#sk-container-id-8 div.sk-serial::before {content: \"\";position: absolute;border-left: 1px solid gray;box-sizing: border-box;top: 0;bottom: 0;left: 50%;z-index: 0;}#sk-container-id-8 div.sk-serial {display: flex;flex-direction: column;align-items: center;background-color: white;padding-right: 0.2em;padding-left: 0.2em;position: relative;}#sk-container-id-8 div.sk-item {position: relative;z-index: 1;}#sk-container-id-8 div.sk-parallel {display: flex;align-items: stretch;justify-content: center;background-color: white;position: relative;}#sk-container-id-8 div.sk-item::before, #sk-container-id-8 div.sk-parallel-item::before {content: \"\";position: absolute;border-left: 1px solid gray;box-sizing: border-box;top: 0;bottom: 0;left: 50%;z-index: -1;}#sk-container-id-8 div.sk-parallel-item {display: flex;flex-direction: column;z-index: 1;position: relative;background-color: white;}#sk-container-id-8 div.sk-parallel-item:first-child::after {align-self: flex-end;width: 50%;}#sk-container-id-8 div.sk-parallel-item:last-child::after {align-self: flex-start;width: 50%;}#sk-container-id-8 div.sk-parallel-item:only-child::after {width: 0;}#sk-container-id-8 div.sk-dashed-wrapped {border: 1px dashed gray;margin: 0 0.4em 0.5em 0.4em;box-sizing: border-box;padding-bottom: 0.4em;background-color: white;}#sk-container-id-8 div.sk-label label {font-family: monospace;font-weight: bold;display: inline-block;line-height: 1.2em;}#sk-container-id-8 div.sk-label-container {text-align: center;}#sk-container-id-8 div.sk-container {/* jupyter's `normalize.less` sets `[hidden] { display: none; }` but bootstrap.min.css set `[hidden] { display: none !important; }` so we also need the `!important` here to be able to override the default hidden behavior on the sphinx rendered scikit-learn.org. See: https://github.com/scikit-learn/scikit-learn/issues/21755 */display: inline-block !important;position: relative;}#sk-container-id-8 div.sk-text-repr-fallback {display: none;}</style><div id=\"sk-container-id-8\" class=\"sk-top-container\"><div class=\"sk-text-repr-fallback\"><pre>RandomForestClassifier(criterion=&#x27;log_loss&#x27;, max_depth=10, n_estimators=200,\n",
       "                       random_state=71)</pre><b>In a Jupyter environment, please rerun this cell to show the HTML representation or trust the notebook. <br />On GitHub, the HTML representation is unable to render, please try loading this page with nbviewer.org.</b></div><div class=\"sk-container\" hidden><div class=\"sk-item\"><div class=\"sk-estimator sk-toggleable\"><input class=\"sk-toggleable__control sk-hidden--visually\" id=\"sk-estimator-id-14\" type=\"checkbox\" checked><label for=\"sk-estimator-id-14\" class=\"sk-toggleable__label sk-toggleable__label-arrow\">RandomForestClassifier</label><div class=\"sk-toggleable__content\"><pre>RandomForestClassifier(criterion=&#x27;log_loss&#x27;, max_depth=10, n_estimators=200,\n",
       "                       random_state=71)</pre></div></div></div></div></div>"
      ],
      "text/plain": [
       "RandomForestClassifier(criterion='log_loss', max_depth=10, n_estimators=200,\n",
       "                       random_state=71)"
      ]
     },
     "execution_count": 46,
     "metadata": {},
     "output_type": "execute_result"
    }
   ],
   "source": [
    "random_forest.fit(x_train,y_train)"
   ]
  },
  {
   "cell_type": "code",
   "execution_count": 47,
   "id": "33975eef",
   "metadata": {},
   "outputs": [],
   "source": [
    "pred=random_forest.predict(x_test)"
   ]
  },
  {
   "cell_type": "code",
   "execution_count": 48,
   "id": "7755dd4f",
   "metadata": {},
   "outputs": [
    {
     "data": {
      "text/plain": [
       "0.7054263565891473"
      ]
     },
     "execution_count": 48,
     "metadata": {},
     "output_type": "execute_result"
    }
   ],
   "source": [
    "accuracy_score(y_test,pred)"
   ]
  },
  {
   "cell_type": "code",
   "execution_count": 49,
   "id": "af9ee188",
   "metadata": {},
   "outputs": [
    {
     "data": {
      "text/plain": [
       "array([[ 48,  49],\n",
       "       [ 27, 134]])"
      ]
     },
     "execution_count": 49,
     "metadata": {},
     "output_type": "execute_result"
    }
   ],
   "source": [
    "confusion_matrix(y_test,pred)"
   ]
  },
  {
   "cell_type": "code",
   "execution_count": 50,
   "id": "fc210040",
   "metadata": {},
   "outputs": [
    {
     "data": {
      "image/png": "[encoded data removed]",
      "text/plain": [
       "<Figure size 640x480 with 1 Axes>"
      ]
     },
     "metadata": {},
     "output_type": "display_data"
    }
   ],
   "source": [
    "pd.Series(random_forest.feature_importances_, index=X.columns).plot.barh()\n",
    "plt.title(\"Feature importance\")\n",
    "plt.show()"
   ]
  },
  {
   "cell_type": "code",
   "execution_count": 51,
   "id": "3063db78",
   "metadata": {},
   "outputs": [],
   "source": [
    "params = {'max_depth': [5,7,10,15,None],\n",
    "          'criterion': ['gini','log_loss'],\n",
    "          'n_estimators':[200,400,800],\n",
    "         }\n",
    "\n",
    "estimator = GridSearchCV(RandomForestClassifier(), param_grid=params, cv=7,verbose=2)"
   ]
  },
  {
   "cell_type": "code",
   "execution_count": 52,
   "id": "4e672518",
   "metadata": {
    "scrolled": true
   },
   "outputs": [
    {
     "name": "stdout",
     "output_type": "stream",
     "text": [
      "Fitting 7 folds for each of 30 candidates, totalling 210 fits\n",
      "[CV] END ......criterion=gini, max_depth=5, n_estimators=200; total time=   0.2s\n",
      "[CV] END ......criterion=gini, max_depth=5, n_estimators=200; total time=   0.2s\n",
      "[CV] END ......criterion=gini, max_depth=5, n_estimators=200; total time=   0.2s\n",
      "[CV] END ......criterion=gini, max_depth=5, n_estimators=200; total time=   0.2s\n",
      "[CV] END ......criterion=gini, max_depth=5, n_estimators=200; total time=   0.2s\n",
      "[CV] END ......criterion=gini, max_depth=5, n_estimators=200; total time=   0.2s\n",
      "[CV] END ......criterion=gini, max_depth=5, n_estimators=200; total time=   0.2s\n",
      "[CV] END ......criterion=gini, max_depth=5, n_estimators=400; total time=   0.4s\n",
      "[CV] END ......criterion=gini, max_depth=5, n_estimators=400; total time=   0.4s\n",
      "[CV] END ......criterion=gini, max_depth=5, n_estimators=400; total time=   0.4s\n",
      "[CV] END ......criterion=gini, max_depth=5, n_estimators=400; total time=   0.4s\n",
      "[CV] END ......criterion=gini, max_depth=5, n_estimators=400; total time=   0.4s\n",
      "[CV] END ......criterion=gini, max_depth=5, n_estimators=400; total time=   0.4s\n",
      "[CV] END ......criterion=gini, max_depth=5, n_estimators=400; total time=   0.4s\n",
      "[CV] END ......criterion=gini, max_depth=5, n_estimators=800; total time=   0.7s\n",
      "[CV] END ......criterion=gini, max_depth=5, n_estimators=800; total time=   0.8s\n",
      "[CV] END ......criterion=gini, max_depth=5, n_estimators=800; total time=   0.7s\n",
      "[CV] END ......criterion=gini, max_depth=5, n_estimators=800; total time=   0.8s\n",
      "[CV] END ......criterion=gini, max_depth=5, n_estimators=800; total time=   0.7s\n",
      "[CV] END ......criterion=gini, max_depth=5, n_estimators=800; total time=   0.7s\n",
      "[CV] END ......criterion=gini, max_depth=5, n_estimators=800; total time=   0.7s\n",
      "[CV] END ......criterion=gini, max_depth=7, n_estimators=200; total time=   0.2s\n",
      "[CV] END ......criterion=gini, max_depth=7, n_estimators=200; total time=   0.2s\n",
      "[CV] END ......criterion=gini, max_depth=7, n_estimators=200; total time=   0.2s\n",
      "[CV] END ......criterion=gini, max_depth=7, n_estimators=200; total time=   0.2s\n",
      "[CV] END ......criterion=gini, max_depth=7, n_estimators=200; total time=   0.2s\n",
      "[CV] END ......criterion=gini, max_depth=7, n_estimators=200; total time=   0.2s\n",
      "[CV] END ......criterion=gini, max_depth=7, n_estimators=200; total time=   0.2s\n",
      "[CV] END ......criterion=gini, max_depth=7, n_estimators=400; total time=   0.4s\n",
      "[CV] END ......criterion=gini, max_depth=7, n_estimators=400; total time=   0.4s\n",
      "[CV] END ......criterion=gini, max_depth=7, n_estimators=400; total time=   0.4s\n",
      "[CV] END ......criterion=gini, max_depth=7, n_estimators=400; total time=   0.4s\n",
      "[CV] END ......criterion=gini, max_depth=7, n_estimators=400; total time=   0.4s\n",
      "[CV] END ......criterion=gini, max_depth=7, n_estimators=400; total time=   0.4s\n",
      "[CV] END ......criterion=gini, max_depth=7, n_estimators=400; total time=   0.4s\n",
      "[CV] END ......criterion=gini, max_depth=7, n_estimators=800; total time=   0.8s\n",
      "[CV] END ......criterion=gini, max_depth=7, n_estimators=800; total time=   0.8s\n",
      "[CV] END ......criterion=gini, max_depth=7, n_estimators=800; total time=   0.8s\n",
      "[CV] END ......criterion=gini, max_depth=7, n_estimators=800; total time=   0.8s\n",
      "[CV] END ......criterion=gini, max_depth=7, n_estimators=800; total time=   0.8s\n",
      "[CV] END ......criterion=gini, max_depth=7, n_estimators=800; total time=   0.8s\n",
      "[CV] END ......criterion=gini, max_depth=7, n_estimators=800; total time=   0.8s\n",
      "[CV] END .....criterion=gini, max_depth=10, n_estimators=200; total time=   0.2s\n",
      "[CV] END .....criterion=gini, max_depth=10, n_estimators=200; total time=   0.2s\n",
      "[CV] END .....criterion=gini, max_depth=10, n_estimators=200; total time=   0.2s\n",
      "[CV] END .....criterion=gini, max_depth=10, n_estimators=200; total time=   0.2s\n",
      "[CV] END .....criterion=gini, max_depth=10, n_estimators=200; total time=   0.2s\n",
      "[CV] END .....criterion=gini, max_depth=10, n_estimators=200; total time=   0.2s\n",
      "[CV] END .....criterion=gini, max_depth=10, n_estimators=200; total time=   0.2s\n",
      "[CV] END .....criterion=gini, max_depth=10, n_estimators=400; total time=   0.5s\n",
      "[CV] END .....criterion=gini, max_depth=10, n_estimators=400; total time=   0.5s\n",
      "[CV] END .....criterion=gini, max_depth=10, n_estimators=400; total time=   0.5s\n",
      "[CV] END .....criterion=gini, max_depth=10, n_estimators=400; total time=   0.5s\n",
      "[CV] END .....criterion=gini, max_depth=10, n_estimators=400; total time=   0.5s\n",
      "[CV] END .....criterion=gini, max_depth=10, n_estimators=400; total time=   0.5s\n",
      "[CV] END .....criterion=gini, max_depth=10, n_estimators=400; total time=   0.5s\n",
      "[CV] END .....criterion=gini, max_depth=10, n_estimators=800; total time=   1.0s\n",
      "[CV] END .....criterion=gini, max_depth=10, n_estimators=800; total time=   0.9s\n",
      "[CV] END .....criterion=gini, max_depth=10, n_estimators=800; total time=   0.9s\n",
      "[CV] END .....criterion=gini, max_depth=10, n_estimators=800; total time=   0.9s\n",
      "[CV] END .....criterion=gini, max_depth=10, n_estimators=800; total time=   0.9s\n",
      "[CV] END .....criterion=gini, max_depth=10, n_estimators=800; total time=   0.9s\n",
      "[CV] END .....criterion=gini, max_depth=10, n_estimators=800; total time=   0.9s\n",
      "[CV] END .....criterion=gini, max_depth=15, n_estimators=200; total time=   0.2s\n",
      "[CV] END .....criterion=gini, max_depth=15, n_estimators=200; total time=   0.2s\n",
      "[CV] END .....criterion=gini, max_depth=15, n_estimators=200; total time=   0.2s\n",
      "[CV] END .....criterion=gini, max_depth=15, n_estimators=200; total time=   0.2s\n",
      "[CV] END .....criterion=gini, max_depth=15, n_estimators=200; total time=   0.2s\n",
      "[CV] END .....criterion=gini, max_depth=15, n_estimators=200; total time=   0.2s\n",
      "[CV] END .....criterion=gini, max_depth=15, n_estimators=200; total time=   0.2s\n",
      "[CV] END .....criterion=gini, max_depth=15, n_estimators=400; total time=   0.5s\n",
      "[CV] END .....criterion=gini, max_depth=15, n_estimators=400; total time=   0.5s\n",
      "[CV] END .....criterion=gini, max_depth=15, n_estimators=400; total time=   0.5s\n",
      "[CV] END .....criterion=gini, max_depth=15, n_estimators=400; total time=   0.5s\n",
      "[CV] END .....criterion=gini, max_depth=15, n_estimators=400; total time=   0.5s\n",
      "[CV] END .....criterion=gini, max_depth=15, n_estimators=400; total time=   0.5s\n",
      "[CV] END .....criterion=gini, max_depth=15, n_estimators=400; total time=   0.5s\n",
      "[CV] END .....criterion=gini, max_depth=15, n_estimators=800; total time=   0.9s\n",
      "[CV] END .....criterion=gini, max_depth=15, n_estimators=800; total time=   0.9s\n",
      "[CV] END .....criterion=gini, max_depth=15, n_estimators=800; total time=   0.9s\n",
      "[CV] END .....criterion=gini, max_depth=15, n_estimators=800; total time=   0.9s\n",
      "[CV] END .....criterion=gini, max_depth=15, n_estimators=800; total time=   0.9s\n",
      "[CV] END .....criterion=gini, max_depth=15, n_estimators=800; total time=   0.9s\n",
      "[CV] END .....criterion=gini, max_depth=15, n_estimators=800; total time=   0.9s\n",
      "[CV] END ...criterion=gini, max_depth=None, n_estimators=200; total time=   0.2s\n",
      "[CV] END ...criterion=gini, max_depth=None, n_estimators=200; total time=   0.2s\n",
      "[CV] END ...criterion=gini, max_depth=None, n_estimators=200; total time=   0.2s\n",
      "[CV] END ...criterion=gini, max_depth=None, n_estimators=200; total time=   0.2s\n",
      "[CV] END ...criterion=gini, max_depth=None, n_estimators=200; total time=   0.2s\n",
      "[CV] END ...criterion=gini, max_depth=None, n_estimators=200; total time=   0.2s\n",
      "[CV] END ...criterion=gini, max_depth=None, n_estimators=200; total time=   0.2s\n",
      "[CV] END ...criterion=gini, max_depth=None, n_estimators=400; total time=   0.5s\n",
      "[CV] END ...criterion=gini, max_depth=None, n_estimators=400; total time=   0.5s\n",
      "[CV] END ...criterion=gini, max_depth=None, n_estimators=400; total time=   0.5s\n",
      "[CV] END ...criterion=gini, max_depth=None, n_estimators=400; total time=   0.5s\n",
      "[CV] END ...criterion=gini, max_depth=None, n_estimators=400; total time=   0.5s\n",
      "[CV] END ...criterion=gini, max_depth=None, n_estimators=400; total time=   0.5s\n",
      "[CV] END ...criterion=gini, max_depth=None, n_estimators=400; total time=   0.5s\n",
      "[CV] END ...criterion=gini, max_depth=None, n_estimators=800; total time=   1.0s\n",
      "[CV] END ...criterion=gini, max_depth=None, n_estimators=800; total time=   1.0s\n",
      "[CV] END ...criterion=gini, max_depth=None, n_estimators=800; total time=   1.0s\n"
     ]
    },
    {
     "name": "stdout",
     "output_type": "stream",
     "text": [
      "[CV] END ...criterion=gini, max_depth=None, n_estimators=800; total time=   1.0s\n",
      "[CV] END ...criterion=gini, max_depth=None, n_estimators=800; total time=   1.0s\n",
      "[CV] END ...criterion=gini, max_depth=None, n_estimators=800; total time=   1.0s\n",
      "[CV] END ...criterion=gini, max_depth=None, n_estimators=800; total time=   1.0s\n",
      "[CV] END ..criterion=log_loss, max_depth=5, n_estimators=200; total time=   0.2s\n",
      "[CV] END ..criterion=log_loss, max_depth=5, n_estimators=200; total time=   0.2s\n",
      "[CV] END ..criterion=log_loss, max_depth=5, n_estimators=200; total time=   0.2s\n",
      "[CV] END ..criterion=log_loss, max_depth=5, n_estimators=200; total time=   0.2s\n",
      "[CV] END ..criterion=log_loss, max_depth=5, n_estimators=200; total time=   0.2s\n",
      "[CV] END ..criterion=log_loss, max_depth=5, n_estimators=200; total time=   0.2s\n",
      "[CV] END ..criterion=log_loss, max_depth=5, n_estimators=200; total time=   0.2s\n",
      "[CV] END ..criterion=log_loss, max_depth=5, n_estimators=400; total time=   0.4s\n",
      "[CV] END ..criterion=log_loss, max_depth=5, n_estimators=400; total time=   0.4s\n",
      "[CV] END ..criterion=log_loss, max_depth=5, n_estimators=400; total time=   0.4s\n",
      "[CV] END ..criterion=log_loss, max_depth=5, n_estimators=400; total time=   0.4s\n",
      "[CV] END ..criterion=log_loss, max_depth=5, n_estimators=400; total time=   0.4s\n",
      "[CV] END ..criterion=log_loss, max_depth=5, n_estimators=400; total time=   0.4s\n",
      "[CV] END ..criterion=log_loss, max_depth=5, n_estimators=400; total time=   0.4s\n",
      "[CV] END ..criterion=log_loss, max_depth=5, n_estimators=800; total time=   0.8s\n",
      "[CV] END ..criterion=log_loss, max_depth=5, n_estimators=800; total time=   0.8s\n",
      "[CV] END ..criterion=log_loss, max_depth=5, n_estimators=800; total time=   0.8s\n",
      "[CV] END ..criterion=log_loss, max_depth=5, n_estimators=800; total time=   0.8s\n",
      "[CV] END ..criterion=log_loss, max_depth=5, n_estimators=800; total time=   0.8s\n",
      "[CV] END ..criterion=log_loss, max_depth=5, n_estimators=800; total time=   0.8s\n",
      "[CV] END ..criterion=log_loss, max_depth=5, n_estimators=800; total time=   0.8s\n",
      "[CV] END ..criterion=log_loss, max_depth=7, n_estimators=200; total time=   0.2s\n",
      "[CV] END ..criterion=log_loss, max_depth=7, n_estimators=200; total time=   0.2s\n",
      "[CV] END ..criterion=log_loss, max_depth=7, n_estimators=200; total time=   0.2s\n",
      "[CV] END ..criterion=log_loss, max_depth=7, n_estimators=200; total time=   0.2s\n",
      "[CV] END ..criterion=log_loss, max_depth=7, n_estimators=200; total time=   0.2s\n",
      "[CV] END ..criterion=log_loss, max_depth=7, n_estimators=200; total time=   0.2s\n",
      "[CV] END ..criterion=log_loss, max_depth=7, n_estimators=200; total time=   0.2s\n",
      "[CV] END ..criterion=log_loss, max_depth=7, n_estimators=400; total time=   0.4s\n",
      "[CV] END ..criterion=log_loss, max_depth=7, n_estimators=400; total time=   0.4s\n",
      "[CV] END ..criterion=log_loss, max_depth=7, n_estimators=400; total time=   0.4s\n",
      "[CV] END ..criterion=log_loss, max_depth=7, n_estimators=400; total time=   0.4s\n",
      "[CV] END ..criterion=log_loss, max_depth=7, n_estimators=400; total time=   0.4s\n",
      "[CV] END ..criterion=log_loss, max_depth=7, n_estimators=400; total time=   0.4s\n",
      "[CV] END ..criterion=log_loss, max_depth=7, n_estimators=400; total time=   0.4s\n",
      "[CV] END ..criterion=log_loss, max_depth=7, n_estimators=800; total time=   0.9s\n",
      "[CV] END ..criterion=log_loss, max_depth=7, n_estimators=800; total time=   0.9s\n",
      "[CV] END ..criterion=log_loss, max_depth=7, n_estimators=800; total time=   0.8s\n",
      "[CV] END ..criterion=log_loss, max_depth=7, n_estimators=800; total time=   0.9s\n",
      "[CV] END ..criterion=log_loss, max_depth=7, n_estimators=800; total time=   0.9s\n",
      "[CV] END ..criterion=log_loss, max_depth=7, n_estimators=800; total time=   0.9s\n",
      "[CV] END ..criterion=log_loss, max_depth=7, n_estimators=800; total time=   0.8s\n",
      "[CV] END .criterion=log_loss, max_depth=10, n_estimators=200; total time=   0.2s\n",
      "[CV] END .criterion=log_loss, max_depth=10, n_estimators=200; total time=   0.2s\n",
      "[CV] END .criterion=log_loss, max_depth=10, n_estimators=200; total time=   0.2s\n",
      "[CV] END .criterion=log_loss, max_depth=10, n_estimators=200; total time=   0.2s\n",
      "[CV] END .criterion=log_loss, max_depth=10, n_estimators=200; total time=   0.2s\n",
      "[CV] END .criterion=log_loss, max_depth=10, n_estimators=200; total time=   0.2s\n",
      "[CV] END .criterion=log_loss, max_depth=10, n_estimators=200; total time=   0.2s\n",
      "[CV] END .criterion=log_loss, max_depth=10, n_estimators=400; total time=   0.5s\n",
      "[CV] END .criterion=log_loss, max_depth=10, n_estimators=400; total time=   0.5s\n",
      "[CV] END .criterion=log_loss, max_depth=10, n_estimators=400; total time=   0.5s\n",
      "[CV] END .criterion=log_loss, max_depth=10, n_estimators=400; total time=   0.5s\n",
      "[CV] END .criterion=log_loss, max_depth=10, n_estimators=400; total time=   0.5s\n",
      "[CV] END .criterion=log_loss, max_depth=10, n_estimators=400; total time=   0.5s\n",
      "[CV] END .criterion=log_loss, max_depth=10, n_estimators=400; total time=   0.5s\n",
      "[CV] END .criterion=log_loss, max_depth=10, n_estimators=800; total time=   1.0s\n",
      "[CV] END .criterion=log_loss, max_depth=10, n_estimators=800; total time=   1.0s\n",
      "[CV] END .criterion=log_loss, max_depth=10, n_estimators=800; total time=   0.9s\n",
      "[CV] END .criterion=log_loss, max_depth=10, n_estimators=800; total time=   1.0s\n",
      "[CV] END .criterion=log_loss, max_depth=10, n_estimators=800; total time=   1.0s\n",
      "[CV] END .criterion=log_loss, max_depth=10, n_estimators=800; total time=   1.0s\n",
      "[CV] END .criterion=log_loss, max_depth=10, n_estimators=800; total time=   1.0s\n",
      "[CV] END .criterion=log_loss, max_depth=15, n_estimators=200; total time=   0.3s\n",
      "[CV] END .criterion=log_loss, max_depth=15, n_estimators=200; total time=   0.3s\n",
      "[CV] END .criterion=log_loss, max_depth=15, n_estimators=200; total time=   0.3s\n",
      "[CV] END .criterion=log_loss, max_depth=15, n_estimators=200; total time=   0.3s\n",
      "[CV] END .criterion=log_loss, max_depth=15, n_estimators=200; total time=   0.3s\n",
      "[CV] END .criterion=log_loss, max_depth=15, n_estimators=200; total time=   0.3s\n",
      "[CV] END .criterion=log_loss, max_depth=15, n_estimators=200; total time=   0.3s\n",
      "[CV] END .criterion=log_loss, max_depth=15, n_estimators=400; total time=   0.5s\n",
      "[CV] END .criterion=log_loss, max_depth=15, n_estimators=400; total time=   0.5s\n",
      "[CV] END .criterion=log_loss, max_depth=15, n_estimators=400; total time=   0.5s\n",
      "[CV] END .criterion=log_loss, max_depth=15, n_estimators=400; total time=   0.5s\n",
      "[CV] END .criterion=log_loss, max_depth=15, n_estimators=400; total time=   0.5s\n",
      "[CV] END .criterion=log_loss, max_depth=15, n_estimators=400; total time=   0.5s\n",
      "[CV] END .criterion=log_loss, max_depth=15, n_estimators=400; total time=   0.5s\n",
      "[CV] END .criterion=log_loss, max_depth=15, n_estimators=800; total time=   1.0s\n",
      "[CV] END .criterion=log_loss, max_depth=15, n_estimators=800; total time=   1.0s\n",
      "[CV] END .criterion=log_loss, max_depth=15, n_estimators=800; total time=   1.0s\n",
      "[CV] END .criterion=log_loss, max_depth=15, n_estimators=800; total time=   1.0s\n",
      "[CV] END .criterion=log_loss, max_depth=15, n_estimators=800; total time=   1.0s\n",
      "[CV] END .criterion=log_loss, max_depth=15, n_estimators=800; total time=   1.0s\n",
      "[CV] END .criterion=log_loss, max_depth=15, n_estimators=800; total time=   1.0s\n",
      "[CV] END criterion=log_loss, max_depth=None, n_estimators=200; total time=   0.3s\n",
      "[CV] END criterion=log_loss, max_depth=None, n_estimators=200; total time=   0.3s\n",
      "[CV] END criterion=log_loss, max_depth=None, n_estimators=200; total time=   0.3s\n",
      "[CV] END criterion=log_loss, max_depth=None, n_estimators=200; total time=   0.3s\n",
      "[CV] END criterion=log_loss, max_depth=None, n_estimators=200; total time=   0.3s\n",
      "[CV] END criterion=log_loss, max_depth=None, n_estimators=200; total time=   0.3s\n",
      "[CV] END criterion=log_loss, max_depth=None, n_estimators=200; total time=   0.3s\n",
      "[CV] END criterion=log_loss, max_depth=None, n_estimators=400; total time=   0.5s\n",
      "[CV] END criterion=log_loss, max_depth=None, n_estimators=400; total time=   0.5s\n",
      "[CV] END criterion=log_loss, max_depth=None, n_estimators=400; total time=   0.5s\n",
      "[CV] END criterion=log_loss, max_depth=None, n_estimators=400; total time=   0.5s\n",
      "[CV] END criterion=log_loss, max_depth=None, n_estimators=400; total time=   0.5s\n",
      "[CV] END criterion=log_loss, max_depth=None, n_estimators=400; total time=   0.5s\n"
     ]
    },
    {
     "name": "stdout",
     "output_type": "stream",
     "text": [
      "[CV] END criterion=log_loss, max_depth=None, n_estimators=400; total time=   0.5s\n",
      "[CV] END criterion=log_loss, max_depth=None, n_estimators=800; total time=   1.1s\n",
      "[CV] END criterion=log_loss, max_depth=None, n_estimators=800; total time=   1.0s\n",
      "[CV] END criterion=log_loss, max_depth=None, n_estimators=800; total time=   1.0s\n",
      "[CV] END criterion=log_loss, max_depth=None, n_estimators=800; total time=   1.1s\n",
      "[CV] END criterion=log_loss, max_depth=None, n_estimators=800; total time=   1.0s\n",
      "[CV] END criterion=log_loss, max_depth=None, n_estimators=800; total time=   1.0s\n",
      "[CV] END criterion=log_loss, max_depth=None, n_estimators=800; total time=   1.1s\n"
     ]
    },
    {
     "data": {
      "text/html": [
       "<style>#sk-container-id-9 {color: black;background-color: white;}#sk-container-id-9 pre{padding: 0;}#sk-container-id-9 div.sk-toggleable {background-color: white;}#sk-container-id-9 label.sk-toggleable__label {cursor: pointer;display: block;width: 100%;margin-bottom: 0;padding: 0.3em;box-sizing: border-box;text-align: center;}#sk-container-id-9 label.sk-toggleable__label-arrow:before {content: \"▸\";float: left;margin-right: 0.25em;color: #696969;}#sk-container-id-9 label.sk-toggleable__label-arrow:hover:before {color: black;}#sk-container-id-9 div.sk-estimator:hover label.sk-toggleable__label-arrow:before {color: black;}#sk-container-id-9 div.sk-toggleable__content {max-height: 0;max-width: 0;overflow: hidden;text-align: left;background-color: #f0f8ff;}#sk-container-id-9 div.sk-toggleable__content pre {margin: 0.2em;color: black;border-radius: 0.25em;background-color: #f0f8ff;}#sk-container-id-9 input.sk-toggleable__control:checked~div.sk-toggleable__content {max-height: 200px;max-width: 100%;overflow: auto;}#sk-container-id-9 input.sk-toggleable__control:checked~label.sk-toggleable__label-arrow:before {content: \"▾\";}#sk-container-id-9 div.sk-estimator input.sk-toggleable__control:checked~label.sk-toggleable__label {background-color: #d4ebff;}#sk-container-id-9 div.sk-label input.sk-toggleable__control:checked~label.sk-toggleable__label {background-color: #d4ebff;}#sk-container-id-9 input.sk-hidden--visually {border: 0;clip: rect(1px 1px 1px 1px);clip: rect(1px, 1px, 1px, 1px);height: 1px;margin: -1px;overflow: hidden;padding: 0;position: absolute;width: 1px;}#sk-container-id-9 div.sk-estimator {font-family: monospace;background-color: #f0f8ff;border: 1px dotted black;border-radius: 0.25em;box-sizing: border-box;margin-bottom: 0.5em;}#sk-container-id-9 div.sk-estimator:hover {background-color: #d4ebff;}#sk-container-id-9 div.sk-parallel-item::after {content: \"\";width: 100%;border-bottom: 1px solid gray;flex-grow: 1;}#sk-container-id-9 div.sk-label:hover label.sk-toggleable__label {background-color: #d4ebff;}#sk-container-id-9 div.sk-serial::before {content: \"\";position: absolute;border-left: 1px solid gray;box-sizing: border-box;top: 0;bottom: 0;left: 50%;z-index: 0;}#sk-container-id-9 div.sk-serial {display: flex;flex-direction: column;align-items: center;background-color: white;padding-right: 0.2em;padding-left: 0.2em;position: relative;}#sk-container-id-9 div.sk-item {position: relative;z-index: 1;}#sk-container-id-9 div.sk-parallel {display: flex;align-items: stretch;justify-content: center;background-color: white;position: relative;}#sk-container-id-9 div.sk-item::before, #sk-container-id-9 div.sk-parallel-item::before {content: \"\";position: absolute;border-left: 1px solid gray;box-sizing: border-box;top: 0;bottom: 0;left: 50%;z-index: -1;}#sk-container-id-9 div.sk-parallel-item {display: flex;flex-direction: column;z-index: 1;position: relative;background-color: white;}#sk-container-id-9 div.sk-parallel-item:first-child::after {align-self: flex-end;width: 50%;}#sk-container-id-9 div.sk-parallel-item:last-child::after {align-self: flex-start;width: 50%;}#sk-container-id-9 div.sk-parallel-item:only-child::after {width: 0;}#sk-container-id-9 div.sk-dashed-wrapped {border: 1px dashed gray;margin: 0 0.4em 0.5em 0.4em;box-sizing: border-box;padding-bottom: 0.4em;background-color: white;}#sk-container-id-9 div.sk-label label {font-family: monospace;font-weight: bold;display: inline-block;line-height: 1.2em;}#sk-container-id-9 div.sk-label-container {text-align: center;}#sk-container-id-9 div.sk-container {/* jupyter's `normalize.less` sets `[hidden] { display: none; }` but bootstrap.min.css set `[hidden] { display: none !important; }` so we also need the `!important` here to be able to override the default hidden behavior on the sphinx rendered scikit-learn.org. See: https://github.com/scikit-learn/scikit-learn/issues/21755 */display: inline-block !important;position: relative;}#sk-container-id-9 div.sk-text-repr-fallback {display: none;}</style><div id=\"sk-container-id-9\" class=\"sk-top-container\"><div class=\"sk-text-repr-fallback\"><pre>GridSearchCV(cv=7, estimator=RandomForestClassifier(),\n",
       "             param_grid={&#x27;criterion&#x27;: [&#x27;gini&#x27;, &#x27;log_loss&#x27;],\n",
       "                         &#x27;max_depth&#x27;: [5, 7, 10, 15, None],\n",
       "                         &#x27;n_estimators&#x27;: [200, 400, 800]},\n",
       "             verbose=2)</pre><b>In a Jupyter environment, please rerun this cell to show the HTML representation or trust the notebook. <br />On GitHub, the HTML representation is unable to render, please try loading this page with nbviewer.org.</b></div><div class=\"sk-container\" hidden><div class=\"sk-item sk-dashed-wrapped\"><div class=\"sk-label-container\"><div class=\"sk-label sk-toggleable\"><input class=\"sk-toggleable__control sk-hidden--visually\" id=\"sk-estimator-id-15\" type=\"checkbox\" ><label for=\"sk-estimator-id-15\" class=\"sk-toggleable__label sk-toggleable__label-arrow\">GridSearchCV</label><div class=\"sk-toggleable__content\"><pre>GridSearchCV(cv=7, estimator=RandomForestClassifier(),\n",
       "             param_grid={&#x27;criterion&#x27;: [&#x27;gini&#x27;, &#x27;log_loss&#x27;],\n",
       "                         &#x27;max_depth&#x27;: [5, 7, 10, 15, None],\n",
       "                         &#x27;n_estimators&#x27;: [200, 400, 800]},\n",
       "             verbose=2)</pre></div></div></div><div class=\"sk-parallel\"><div class=\"sk-parallel-item\"><div class=\"sk-item\"><div class=\"sk-label-container\"><div class=\"sk-label sk-toggleable\"><input class=\"sk-toggleable__control sk-hidden--visually\" id=\"sk-estimator-id-16\" type=\"checkbox\" ><label for=\"sk-estimator-id-16\" class=\"sk-toggleable__label sk-toggleable__label-arrow\">estimator: RandomForestClassifier</label><div class=\"sk-toggleable__content\"><pre>RandomForestClassifier()</pre></div></div></div><div class=\"sk-serial\"><div class=\"sk-item\"><div class=\"sk-estimator sk-toggleable\"><input class=\"sk-toggleable__control sk-hidden--visually\" id=\"sk-estimator-id-17\" type=\"checkbox\" ><label for=\"sk-estimator-id-17\" class=\"sk-toggleable__label sk-toggleable__label-arrow\">RandomForestClassifier</label><div class=\"sk-toggleable__content\"><pre>RandomForestClassifier()</pre></div></div></div></div></div></div></div></div></div></div>"
      ],
      "text/plain": [
       "GridSearchCV(cv=7, estimator=RandomForestClassifier(),\n",
       "             param_grid={'criterion': ['gini', 'log_loss'],\n",
       "                         'max_depth': [5, 7, 10, 15, None],\n",
       "                         'n_estimators': [200, 400, 800]},\n",
       "             verbose=2)"
      ]
     },
     "execution_count": 52,
     "metadata": {},
     "output_type": "execute_result"
    }
   ],
   "source": [
    "estimator.fit(x_train,y_train)"
   ]
  },
  {
   "cell_type": "code",
   "execution_count": 28,
   "id": "518da860",
   "metadata": {},
   "outputs": [
    {
     "data": {
      "text/plain": [
       "{'criterion': 'gini', 'max_depth': 5, 'n_estimators': 400}"
      ]
     },
     "execution_count": 28,
     "metadata": {},
     "output_type": "execute_result"
    }
   ],
   "source": [
    "estimator.best_params_"
   ]
  },
  {
   "cell_type": "code",
   "execution_count": 29,
   "id": "ff4f6179",
   "metadata": {},
   "outputs": [],
   "source": [
    "random_forest1=RandomForestClassifier(n_estimators=400,max_depth=5,random_state=71,criterion='gini')"
   ]
  },
  {
   "cell_type": "code",
   "execution_count": 30,
   "id": "43c161e3",
   "metadata": {},
   "outputs": [
    {
     "data": {
      "text/html": [
       "<style>#sk-container-id-5 {color: black;background-color: white;}#sk-container-id-5 pre{padding: 0;}#sk-container-id-5 div.sk-toggleable {background-color: white;}#sk-container-id-5 label.sk-toggleable__label {cursor: pointer;display: block;width: 100%;margin-bottom: 0;padding: 0.3em;box-sizing: border-box;text-align: center;}#sk-container-id-5 label.sk-toggleable__label-arrow:before {content: \"▸\";float: left;margin-right: 0.25em;color: #696969;}#sk-container-id-5 label.sk-toggleable__label-arrow:hover:before {color: black;}#sk-container-id-5 div.sk-estimator:hover label.sk-toggleable__label-arrow:before {color: black;}#sk-container-id-5 div.sk-toggleable__content {max-height: 0;max-width: 0;overflow: hidden;text-align: left;background-color: #f0f8ff;}#sk-container-id-5 div.sk-toggleable__content pre {margin: 0.2em;color: black;border-radius: 0.25em;background-color: #f0f8ff;}#sk-container-id-5 input.sk-toggleable__control:checked~div.sk-toggleable__content {max-height: 200px;max-width: 100%;overflow: auto;}#sk-container-id-5 input.sk-toggleable__control:checked~label.sk-toggleable__label-arrow:before {content: \"▾\";}#sk-container-id-5 div.sk-estimator input.sk-toggleable__control:checked~label.sk-toggleable__label {background-color: #d4ebff;}#sk-container-id-5 div.sk-label input.sk-toggleable__control:checked~label.sk-toggleable__label {background-color: #d4ebff;}#sk-container-id-5 input.sk-hidden--visually {border: 0;clip: rect(1px 1px 1px 1px);clip: rect(1px, 1px, 1px, 1px);height: 1px;margin: -1px;overflow: hidden;padding: 0;position: absolute;width: 1px;}#sk-container-id-5 div.sk-estimator {font-family: monospace;background-color: #f0f8ff;border: 1px dotted black;border-radius: 0.25em;box-sizing: border-box;margin-bottom: 0.5em;}#sk-container-id-5 div.sk-estimator:hover {background-color: #d4ebff;}#sk-container-id-5 div.sk-parallel-item::after {content: \"\";width: 100%;border-bottom: 1px solid gray;flex-grow: 1;}#sk-container-id-5 div.sk-label:hover label.sk-toggleable__label {background-color: #d4ebff;}#sk-container-id-5 div.sk-serial::before {content: \"\";position: absolute;border-left: 1px solid gray;box-sizing: border-box;top: 0;bottom: 0;left: 50%;z-index: 0;}#sk-container-id-5 div.sk-serial {display: flex;flex-direction: column;align-items: center;background-color: white;padding-right: 0.2em;padding-left: 0.2em;position: relative;}#sk-container-id-5 div.sk-item {position: relative;z-index: 1;}#sk-container-id-5 div.sk-parallel {display: flex;align-items: stretch;justify-content: center;background-color: white;position: relative;}#sk-container-id-5 div.sk-item::before, #sk-container-id-5 div.sk-parallel-item::before {content: \"\";position: absolute;border-left: 1px solid gray;box-sizing: border-box;top: 0;bottom: 0;left: 50%;z-index: -1;}#sk-container-id-5 div.sk-parallel-item {display: flex;flex-direction: column;z-index: 1;position: relative;background-color: white;}#sk-container-id-5 div.sk-parallel-item:first-child::after {align-self: flex-end;width: 50%;}#sk-container-id-5 div.sk-parallel-item:last-child::after {align-self: flex-start;width: 50%;}#sk-container-id-5 div.sk-parallel-item:only-child::after {width: 0;}#sk-container-id-5 div.sk-dashed-wrapped {border: 1px dashed gray;margin: 0 0.4em 0.5em 0.4em;box-sizing: border-box;padding-bottom: 0.4em;background-color: white;}#sk-container-id-5 div.sk-label label {font-family: monospace;font-weight: bold;display: inline-block;line-height: 1.2em;}#sk-container-id-5 div.sk-label-container {text-align: center;}#sk-container-id-5 div.sk-container {/* jupyter's `normalize.less` sets `[hidden] { display: none; }` but bootstrap.min.css set `[hidden] { display: none !important; }` so we also need the `!important` here to be able to override the default hidden behavior on the sphinx rendered scikit-learn.org. See: https://github.com/scikit-learn/scikit-learn/issues/21755 */display: inline-block !important;position: relative;}#sk-container-id-5 div.sk-text-repr-fallback {display: none;}</style><div id=\"sk-container-id-5\" class=\"sk-top-container\"><div class=\"sk-text-repr-fallback\"><pre>RandomForestClassifier(max_depth=5, n_estimators=400, random_state=71)</pre><b>In a Jupyter environment, please rerun this cell to show the HTML representation or trust the notebook. <br />On GitHub, the HTML representation is unable to render, please try loading this page with nbviewer.org.</b></div><div class=\"sk-container\" hidden><div class=\"sk-item\"><div class=\"sk-estimator sk-toggleable\"><input class=\"sk-toggleable__control sk-hidden--visually\" id=\"sk-estimator-id-9\" type=\"checkbox\" checked><label for=\"sk-estimator-id-9\" class=\"sk-toggleable__label sk-toggleable__label-arrow\">RandomForestClassifier</label><div class=\"sk-toggleable__content\"><pre>RandomForestClassifier(max_depth=5, n_estimators=400, random_state=71)</pre></div></div></div></div></div>"
      ],
      "text/plain": [
       "RandomForestClassifier(max_depth=5, n_estimators=400, random_state=71)"
      ]
     },
     "execution_count": 30,
     "metadata": {},
     "output_type": "execute_result"
    }
   ],
   "source": [
    "random_forest1.fit(x_train,y_train)"
   ]
  },
  {
   "cell_type": "code",
   "execution_count": 31,
   "id": "a264a351",
   "metadata": {},
   "outputs": [],
   "source": [
    "pred1=random_forest1.predict(x_test)"
   ]
  },
  {
   "cell_type": "code",
   "execution_count": 32,
   "id": "74ed1dee",
   "metadata": {},
   "outputs": [
    {
     "data": {
      "text/plain": [
       "0.7209302325581395"
      ]
     },
     "execution_count": 32,
     "metadata": {},
     "output_type": "execute_result"
    }
   ],
   "source": [
    "accuracy_score(y_test,pred1)"
   ]
  },
  {
   "cell_type": "code",
   "execution_count": 33,
   "id": "e2cfd748",
   "metadata": {},
   "outputs": [
    {
     "data": {
      "text/plain": [
       "array([[ 61,  36],\n",
       "       [ 36, 125]])"
      ]
     },
     "execution_count": 33,
     "metadata": {},
     "output_type": "execute_result"
    }
   ],
   "source": [
    "confusion_matrix(y_test,pred1)"
   ]
  },
  {
   "cell_type": "code",
   "execution_count": 34,
   "id": "397e19af",
   "metadata": {},
   "outputs": [
    {
     "data": {
      "image/png": "[encoded data removed]",
      "text/plain": [
       "<Figure size 640x480 with 1 Axes>"
      ]
     },
     "metadata": {},
     "output_type": "display_data"
    }
   ],
   "source": [
    "pd.Series(random_forest1.feature_importances_, index=X.columns).plot.barh()\n",
    "plt.title(\"Feature importance\")\n",
    "plt.show()"
   ]
  },
  {
   "cell_type": "code",
   "execution_count": null,
   "id": "76c7d01d",
   "metadata": {},
   "outputs": [],
   "source": []
  }
 ],
 "metadata": {
  "kernelspec": {
   "display_name": "Python 3 (ipykernel)",
   "language": "python",
   "name": "python3"
  },
  "language_info": {
   "codemirror_mode": {
    "name": "ipython",
    "version": 3
   },
   "file_extension": ".py",
   "mimetype": "text/x-python",
   "name": "python",
   "nbconvert_exporter": "python",
   "pygments_lexer": "ipython3",
   "version": "3.10.12"
  }
 },
 "nbformat": 4,
 "nbformat_minor": 5
}
