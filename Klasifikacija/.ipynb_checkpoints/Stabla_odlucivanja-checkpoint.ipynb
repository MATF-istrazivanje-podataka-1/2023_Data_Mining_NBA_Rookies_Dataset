{
 "cells": [
  {
   "cell_type": "code",
   "execution_count": 1,
   "id": "95918acb",
   "metadata": {},
   "outputs": [],
   "source": [
    "from sklearn.model_selection import train_test_split,cross_val_score\n",
    "from sklearn.tree import DecisionTreeClassifier\n",
    "from sklearn.ensemble import RandomForestClassifier\n",
    "import pandas as pd\n",
    "import numpy as np\n",
    "import matplotlib.pyplot as plt\n",
    "from sklearn.metrics import confusion_matrix, accuracy_score, f1_score, roc_auc_score"
   ]
  },
  {
   "cell_type": "code",
   "execution_count": 2,
   "id": "b087aaf1",
   "metadata": {},
   "outputs": [],
   "source": [
    "data=pd.read_csv('nba_logreg.csv')"
   ]
  },
  {
   "cell_type": "code",
   "execution_count": 3,
   "id": "4c7592dd",
   "metadata": {},
   "outputs": [],
   "source": [
    "data=data.fillna(0.0)"
   ]
  },
  {
   "cell_type": "code",
   "execution_count": 4,
   "id": "5724dfb7",
   "metadata": {},
   "outputs": [],
   "source": [
    "data=data.drop_duplicates()"
   ]
  },
  {
   "cell_type": "code",
   "execution_count": 5,
   "id": "74bcd0ff",
   "metadata": {},
   "outputs": [],
   "source": [
    "imenjaci=data.duplicated(subset=['name','gp','min','pts'],keep=False)"
   ]
  },
  {
   "cell_type": "code",
   "execution_count": 6,
   "id": "6aea26e9",
   "metadata": {},
   "outputs": [
    {
     "data": {
      "text/plain": [
       "Int64Index([  18,   19,   71,   72,   73,   74,  120,  121,  126,  127,  156,\n",
       "             157,  158,  159,  162,  164,  165,  167,  168,  170,  223,  224,\n",
       "             225,  226,  364,  365,  367,  368,  472,  473,  553,  554,  848,\n",
       "             849,  870,  871, 1126, 1127, 1229, 1230],\n",
       "           dtype='int64')"
      ]
     },
     "execution_count": 6,
     "metadata": {},
     "output_type": "execute_result"
    }
   ],
   "source": [
    "imenjaci1=data.loc[imenjaci]\n",
    "imenjaci1.index"
   ]
  },
  {
   "cell_type": "code",
   "execution_count": 7,
   "id": "9f6b611c",
   "metadata": {},
   "outputs": [],
   "source": [
    "data.drop(index=(imenjaci1.index),inplace=True)"
   ]
  },
  {
   "cell_type": "code",
   "execution_count": 8,
   "id": "84d5c954",
   "metadata": {},
   "outputs": [],
   "source": [
    "Y=data['target_5yrs']\n",
    "X=data.drop('target_5yrs',axis=1)\n",
    "X=X.drop(['fg','3p','ft','reb','name'],axis=1)"
   ]
  },
  {
   "cell_type": "code",
   "execution_count": 9,
   "id": "bacc4403",
   "metadata": {},
   "outputs": [],
   "source": [
    "x_train,x_test,y_train,y_test=train_test_split(X,Y,test_size=0.20,stratify=Y)"
   ]
  },
  {
   "cell_type": "code",
   "execution_count": 10,
   "id": "a4a5cc42",
   "metadata": {},
   "outputs": [
    {
     "data": {
      "text/html": [
       "<style>#sk-container-id-1 {color: black;background-color: white;}#sk-container-id-1 pre{padding: 0;}#sk-container-id-1 div.sk-toggleable {background-color: white;}#sk-container-id-1 label.sk-toggleable__label {cursor: pointer;display: block;width: 100%;margin-bottom: 0;padding: 0.3em;box-sizing: border-box;text-align: center;}#sk-container-id-1 label.sk-toggleable__label-arrow:before {content: \"▸\";float: left;margin-right: 0.25em;color: #696969;}#sk-container-id-1 label.sk-toggleable__label-arrow:hover:before {color: black;}#sk-container-id-1 div.sk-estimator:hover label.sk-toggleable__label-arrow:before {color: black;}#sk-container-id-1 div.sk-toggleable__content {max-height: 0;max-width: 0;overflow: hidden;text-align: left;background-color: #f0f8ff;}#sk-container-id-1 div.sk-toggleable__content pre {margin: 0.2em;color: black;border-radius: 0.25em;background-color: #f0f8ff;}#sk-container-id-1 input.sk-toggleable__control:checked~div.sk-toggleable__content {max-height: 200px;max-width: 100%;overflow: auto;}#sk-container-id-1 input.sk-toggleable__control:checked~label.sk-toggleable__label-arrow:before {content: \"▾\";}#sk-container-id-1 div.sk-estimator input.sk-toggleable__control:checked~label.sk-toggleable__label {background-color: #d4ebff;}#sk-container-id-1 div.sk-label input.sk-toggleable__control:checked~label.sk-toggleable__label {background-color: #d4ebff;}#sk-container-id-1 input.sk-hidden--visually {border: 0;clip: rect(1px 1px 1px 1px);clip: rect(1px, 1px, 1px, 1px);height: 1px;margin: -1px;overflow: hidden;padding: 0;position: absolute;width: 1px;}#sk-container-id-1 div.sk-estimator {font-family: monospace;background-color: #f0f8ff;border: 1px dotted black;border-radius: 0.25em;box-sizing: border-box;margin-bottom: 0.5em;}#sk-container-id-1 div.sk-estimator:hover {background-color: #d4ebff;}#sk-container-id-1 div.sk-parallel-item::after {content: \"\";width: 100%;border-bottom: 1px solid gray;flex-grow: 1;}#sk-container-id-1 div.sk-label:hover label.sk-toggleable__label {background-color: #d4ebff;}#sk-container-id-1 div.sk-serial::before {content: \"\";position: absolute;border-left: 1px solid gray;box-sizing: border-box;top: 0;bottom: 0;left: 50%;z-index: 0;}#sk-container-id-1 div.sk-serial {display: flex;flex-direction: column;align-items: center;background-color: white;padding-right: 0.2em;padding-left: 0.2em;position: relative;}#sk-container-id-1 div.sk-item {position: relative;z-index: 1;}#sk-container-id-1 div.sk-parallel {display: flex;align-items: stretch;justify-content: center;background-color: white;position: relative;}#sk-container-id-1 div.sk-item::before, #sk-container-id-1 div.sk-parallel-item::before {content: \"\";position: absolute;border-left: 1px solid gray;box-sizing: border-box;top: 0;bottom: 0;left: 50%;z-index: -1;}#sk-container-id-1 div.sk-parallel-item {display: flex;flex-direction: column;z-index: 1;position: relative;background-color: white;}#sk-container-id-1 div.sk-parallel-item:first-child::after {align-self: flex-end;width: 50%;}#sk-container-id-1 div.sk-parallel-item:last-child::after {align-self: flex-start;width: 50%;}#sk-container-id-1 div.sk-parallel-item:only-child::after {width: 0;}#sk-container-id-1 div.sk-dashed-wrapped {border: 1px dashed gray;margin: 0 0.4em 0.5em 0.4em;box-sizing: border-box;padding-bottom: 0.4em;background-color: white;}#sk-container-id-1 div.sk-label label {font-family: monospace;font-weight: bold;display: inline-block;line-height: 1.2em;}#sk-container-id-1 div.sk-label-container {text-align: center;}#sk-container-id-1 div.sk-container {/* jupyter's `normalize.less` sets `[hidden] { display: none; }` but bootstrap.min.css set `[hidden] { display: none !important; }` so we also need the `!important` here to be able to override the default hidden behavior on the sphinx rendered scikit-learn.org. See: https://github.com/scikit-learn/scikit-learn/issues/21755 */display: inline-block !important;position: relative;}#sk-container-id-1 div.sk-text-repr-fallback {display: none;}</style><div id=\"sk-container-id-1\" class=\"sk-top-container\"><div class=\"sk-text-repr-fallback\"><pre>DecisionTreeClassifier(random_state=69)</pre><b>In a Jupyter environment, please rerun this cell to show the HTML representation or trust the notebook. <br />On GitHub, the HTML representation is unable to render, please try loading this page with nbviewer.org.</b></div><div class=\"sk-container\" hidden><div class=\"sk-item\"><div class=\"sk-estimator sk-toggleable\"><input class=\"sk-toggleable__control sk-hidden--visually\" id=\"sk-estimator-id-1\" type=\"checkbox\" checked><label for=\"sk-estimator-id-1\" class=\"sk-toggleable__label sk-toggleable__label-arrow\">DecisionTreeClassifier</label><div class=\"sk-toggleable__content\"><pre>DecisionTreeClassifier(random_state=69)</pre></div></div></div></div></div>"
      ],
      "text/plain": [
       "DecisionTreeClassifier(random_state=69)"
      ]
     },
     "execution_count": 10,
     "metadata": {},
     "output_type": "execute_result"
    }
   ],
   "source": [
    "model=DecisionTreeClassifier(random_state=69)\n",
    "model.fit(x_train,y_train)"
   ]
  },
  {
   "cell_type": "code",
   "execution_count": 11,
   "id": "bec01fc0",
   "metadata": {},
   "outputs": [
    {
     "ename": "NameError",
     "evalue": "name 'mean' is not defined",
     "output_type": "error",
     "traceback": [
      "\u001b[0;31m---------------------------------------------------------------------------\u001b[0m",
      "\u001b[0;31mNameError\u001b[0m                                 Traceback (most recent call last)",
      "Cell \u001b[0;32mIn[11], line 1\u001b[0m\n\u001b[0;32m----> 1\u001b[0m \u001b[43mmean\u001b[49m(cross_val_score(model,x_test,y_test,cv\u001b[38;5;241m=\u001b[39m\u001b[38;5;241m10\u001b[39m))\n",
      "\u001b[0;31mNameError\u001b[0m: name 'mean' is not defined"
     ]
    }
   ],
   "source": [
    "mean(cross_val_score(model,x_test,y_test,cv=10))"
   ]
  },
  {
   "cell_type": "code",
   "execution_count": 12,
   "id": "3bd8bc90",
   "metadata": {},
   "outputs": [],
   "source": [
    "rez=cross_val_score(model,x_test,y_test,cv=10,scoring='roc_auc')"
   ]
  },
  {
   "cell_type": "code",
   "execution_count": 13,
   "id": "2e4ffb2f",
   "metadata": {},
   "outputs": [
    {
     "data": {
      "text/plain": [
       "0.5951552287581701"
      ]
     },
     "execution_count": 13,
     "metadata": {},
     "output_type": "execute_result"
    }
   ],
   "source": [
    "from numpy import mean\n",
    "mean(rez)"
   ]
  },
  {
   "cell_type": "code",
   "execution_count": 14,
   "id": "e0c4224f",
   "metadata": {},
   "outputs": [
    {
     "data": {
      "image/png": "[encoded data removed]",
      "text/plain": [
       "<Figure size 640x480 with 1 Axes>"
      ]
     },
     "metadata": {},
     "output_type": "display_data"
    }
   ],
   "source": [
    "pd.Series(model.feature_importances_, index=X.columns).plot.barh()\n",
    "plt.title(\"Feature importance\")\n",
    "plt.show()"
   ]
  },
  {
   "cell_type": "code",
   "execution_count": 15,
   "id": "c64f69c2",
   "metadata": {},
   "outputs": [],
   "source": [
    "random_forest=RandomForestClassifier(n_estimators=200,max_depth=10,random_state=71,criterion='log_loss')"
   ]
  },
  {
   "cell_type": "code",
   "execution_count": 16,
   "id": "fae93f31",
   "metadata": {},
   "outputs": [
    {
     "data": {
      "text/html": [
       "<style>#sk-container-id-2 {color: black;background-color: white;}#sk-container-id-2 pre{padding: 0;}#sk-container-id-2 div.sk-toggleable {background-color: white;}#sk-container-id-2 label.sk-toggleable__label {cursor: pointer;display: block;width: 100%;margin-bottom: 0;padding: 0.3em;box-sizing: border-box;text-align: center;}#sk-container-id-2 label.sk-toggleable__label-arrow:before {content: \"▸\";float: left;margin-right: 0.25em;color: #696969;}#sk-container-id-2 label.sk-toggleable__label-arrow:hover:before {color: black;}#sk-container-id-2 div.sk-estimator:hover label.sk-toggleable__label-arrow:before {color: black;}#sk-container-id-2 div.sk-toggleable__content {max-height: 0;max-width: 0;overflow: hidden;text-align: left;background-color: #f0f8ff;}#sk-container-id-2 div.sk-toggleable__content pre {margin: 0.2em;color: black;border-radius: 0.25em;background-color: #f0f8ff;}#sk-container-id-2 input.sk-toggleable__control:checked~div.sk-toggleable__content {max-height: 200px;max-width: 100%;overflow: auto;}#sk-container-id-2 input.sk-toggleable__control:checked~label.sk-toggleable__label-arrow:before {content: \"▾\";}#sk-container-id-2 div.sk-estimator input.sk-toggleable__control:checked~label.sk-toggleable__label {background-color: #d4ebff;}#sk-container-id-2 div.sk-label input.sk-toggleable__control:checked~label.sk-toggleable__label {background-color: #d4ebff;}#sk-container-id-2 input.sk-hidden--visually {border: 0;clip: rect(1px 1px 1px 1px);clip: rect(1px, 1px, 1px, 1px);height: 1px;margin: -1px;overflow: hidden;padding: 0;position: absolute;width: 1px;}#sk-container-id-2 div.sk-estimator {font-family: monospace;background-color: #f0f8ff;border: 1px dotted black;border-radius: 0.25em;box-sizing: border-box;margin-bottom: 0.5em;}#sk-container-id-2 div.sk-estimator:hover {background-color: #d4ebff;}#sk-container-id-2 div.sk-parallel-item::after {content: \"\";width: 100%;border-bottom: 1px solid gray;flex-grow: 1;}#sk-container-id-2 div.sk-label:hover label.sk-toggleable__label {background-color: #d4ebff;}#sk-container-id-2 div.sk-serial::before {content: \"\";position: absolute;border-left: 1px solid gray;box-sizing: border-box;top: 0;bottom: 0;left: 50%;z-index: 0;}#sk-container-id-2 div.sk-serial {display: flex;flex-direction: column;align-items: center;background-color: white;padding-right: 0.2em;padding-left: 0.2em;position: relative;}#sk-container-id-2 div.sk-item {position: relative;z-index: 1;}#sk-container-id-2 div.sk-parallel {display: flex;align-items: stretch;justify-content: center;background-color: white;position: relative;}#sk-container-id-2 div.sk-item::before, #sk-container-id-2 div.sk-parallel-item::before {content: \"\";position: absolute;border-left: 1px solid gray;box-sizing: border-box;top: 0;bottom: 0;left: 50%;z-index: -1;}#sk-container-id-2 div.sk-parallel-item {display: flex;flex-direction: column;z-index: 1;position: relative;background-color: white;}#sk-container-id-2 div.sk-parallel-item:first-child::after {align-self: flex-end;width: 50%;}#sk-container-id-2 div.sk-parallel-item:last-child::after {align-self: flex-start;width: 50%;}#sk-container-id-2 div.sk-parallel-item:only-child::after {width: 0;}#sk-container-id-2 div.sk-dashed-wrapped {border: 1px dashed gray;margin: 0 0.4em 0.5em 0.4em;box-sizing: border-box;padding-bottom: 0.4em;background-color: white;}#sk-container-id-2 div.sk-label label {font-family: monospace;font-weight: bold;display: inline-block;line-height: 1.2em;}#sk-container-id-2 div.sk-label-container {text-align: center;}#sk-container-id-2 div.sk-container {/* jupyter's `normalize.less` sets `[hidden] { display: none; }` but bootstrap.min.css set `[hidden] { display: none !important; }` so we also need the `!important` here to be able to override the default hidden behavior on the sphinx rendered scikit-learn.org. See: https://github.com/scikit-learn/scikit-learn/issues/21755 */display: inline-block !important;position: relative;}#sk-container-id-2 div.sk-text-repr-fallback {display: none;}</style><div id=\"sk-container-id-2\" class=\"sk-top-container\"><div class=\"sk-text-repr-fallback\"><pre>RandomForestClassifier(criterion=&#x27;log_loss&#x27;, max_depth=10, n_estimators=200,\n",
       "                       random_state=71)</pre><b>In a Jupyter environment, please rerun this cell to show the HTML representation or trust the notebook. <br />On GitHub, the HTML representation is unable to render, please try loading this page with nbviewer.org.</b></div><div class=\"sk-container\" hidden><div class=\"sk-item\"><div class=\"sk-estimator sk-toggleable\"><input class=\"sk-toggleable__control sk-hidden--visually\" id=\"sk-estimator-id-2\" type=\"checkbox\" checked><label for=\"sk-estimator-id-2\" class=\"sk-toggleable__label sk-toggleable__label-arrow\">RandomForestClassifier</label><div class=\"sk-toggleable__content\"><pre>RandomForestClassifier(criterion=&#x27;log_loss&#x27;, max_depth=10, n_estimators=200,\n",
       "                       random_state=71)</pre></div></div></div></div></div>"
      ],
      "text/plain": [
       "RandomForestClassifier(criterion='log_loss', max_depth=10, n_estimators=200,\n",
       "                       random_state=71)"
      ]
     },
     "execution_count": 16,
     "metadata": {},
     "output_type": "execute_result"
    }
   ],
   "source": [
    "random_forest.fit(x_train,y_train)"
   ]
  },
  {
   "cell_type": "code",
   "execution_count": 17,
   "id": "33975eef",
   "metadata": {},
   "outputs": [],
   "source": [
    "pred=random_forest.predict(x_test)"
   ]
  },
  {
   "cell_type": "code",
   "execution_count": 18,
   "id": "7755dd4f",
   "metadata": {},
   "outputs": [
    {
     "data": {
      "text/plain": [
       "0.6976744186046512"
      ]
     },
     "execution_count": 18,
     "metadata": {},
     "output_type": "execute_result"
    }
   ],
   "source": [
    "accuracy_score(y_test,pred)"
   ]
  },
  {
   "cell_type": "code",
   "execution_count": 19,
   "id": "af9ee188",
   "metadata": {},
   "outputs": [
    {
     "data": {
      "text/plain": [
       "array([[ 52,  45],\n",
       "       [ 33, 128]])"
      ]
     },
     "execution_count": 19,
     "metadata": {},
     "output_type": "execute_result"
    }
   ],
   "source": [
    "confusion_matrix(y_test,pred)"
   ]
  },
  {
   "cell_type": "code",
   "execution_count": 20,
   "id": "3063db78",
   "metadata": {},
   "outputs": [],
   "source": [
    "from sklearn.model_selection import GridSearchCV\n",
    "\n",
    "params = {'max_depth': [5,7,10,15,None],\n",
    "          'criterion': ['gini','log_loss'],\n",
    "          'n_estimators':[200,400,800],\n",
    "         }\n",
    "\n",
    "estimator = GridSearchCV(RandomForestClassifier(), param_grid=params, cv=10,verbose=2)"
   ]
  },
  {
   "cell_type": "code",
   "execution_count": 21,
   "id": "4e672518",
   "metadata": {},
   "outputs": [
    {
     "name": "stdout",
     "output_type": "stream",
     "text": [
      "Fitting 10 folds for each of 30 candidates, totalling 300 fits\n",
      "[CV] END ......criterion=gini, max_depth=5, n_estimators=200; total time=   0.6s\n",
      "[CV] END ......criterion=gini, max_depth=5, n_estimators=200; total time=   0.4s\n",
      "[CV] END ......criterion=gini, max_depth=5, n_estimators=200; total time=   0.4s\n",
      "[CV] END ......criterion=gini, max_depth=5, n_estimators=200; total time=   0.4s\n",
      "[CV] END ......criterion=gini, max_depth=5, n_estimators=200; total time=   0.4s\n",
      "[CV] END ......criterion=gini, max_depth=5, n_estimators=200; total time=   0.4s\n",
      "[CV] END ......criterion=gini, max_depth=5, n_estimators=200; total time=   0.4s\n",
      "[CV] END ......criterion=gini, max_depth=5, n_estimators=200; total time=   0.4s\n",
      "[CV] END ......criterion=gini, max_depth=5, n_estimators=200; total time=   0.4s\n",
      "[CV] END ......criterion=gini, max_depth=5, n_estimators=200; total time=   0.4s\n",
      "[CV] END ......criterion=gini, max_depth=5, n_estimators=400; total time=   0.8s\n",
      "[CV] END ......criterion=gini, max_depth=5, n_estimators=400; total time=   0.8s\n",
      "[CV] END ......criterion=gini, max_depth=5, n_estimators=400; total time=   0.8s\n",
      "[CV] END ......criterion=gini, max_depth=5, n_estimators=400; total time=   0.8s\n",
      "[CV] END ......criterion=gini, max_depth=5, n_estimators=400; total time=   0.8s\n",
      "[CV] END ......criterion=gini, max_depth=5, n_estimators=400; total time=   0.8s\n",
      "[CV] END ......criterion=gini, max_depth=5, n_estimators=400; total time=   0.8s\n",
      "[CV] END ......criterion=gini, max_depth=5, n_estimators=400; total time=   0.8s\n",
      "[CV] END ......criterion=gini, max_depth=5, n_estimators=400; total time=   0.8s\n",
      "[CV] END ......criterion=gini, max_depth=5, n_estimators=400; total time=   0.8s\n",
      "[CV] END ......criterion=gini, max_depth=5, n_estimators=800; total time=   1.7s\n",
      "[CV] END ......criterion=gini, max_depth=5, n_estimators=800; total time=   1.6s\n",
      "[CV] END ......criterion=gini, max_depth=5, n_estimators=800; total time=   1.6s\n",
      "[CV] END ......criterion=gini, max_depth=5, n_estimators=800; total time=   1.6s\n",
      "[CV] END ......criterion=gini, max_depth=5, n_estimators=800; total time=   1.6s\n",
      "[CV] END ......criterion=gini, max_depth=5, n_estimators=800; total time=   1.6s\n",
      "[CV] END ......criterion=gini, max_depth=5, n_estimators=800; total time=   1.6s\n",
      "[CV] END ......criterion=gini, max_depth=5, n_estimators=800; total time=   1.6s\n",
      "[CV] END ......criterion=gini, max_depth=5, n_estimators=800; total time=   1.6s\n",
      "[CV] END ......criterion=gini, max_depth=5, n_estimators=800; total time=   1.6s\n",
      "[CV] END ......criterion=gini, max_depth=7, n_estimators=200; total time=   0.4s\n",
      "[CV] END ......criterion=gini, max_depth=7, n_estimators=200; total time=   0.4s\n",
      "[CV] END ......criterion=gini, max_depth=7, n_estimators=200; total time=   0.4s\n",
      "[CV] END ......criterion=gini, max_depth=7, n_estimators=200; total time=   0.4s\n",
      "[CV] END ......criterion=gini, max_depth=7, n_estimators=200; total time=   0.4s\n",
      "[CV] END ......criterion=gini, max_depth=7, n_estimators=200; total time=   0.4s\n",
      "[CV] END ......criterion=gini, max_depth=7, n_estimators=200; total time=   0.4s\n",
      "[CV] END ......criterion=gini, max_depth=7, n_estimators=200; total time=   0.4s\n",
      "[CV] END ......criterion=gini, max_depth=7, n_estimators=200; total time=   0.4s\n",
      "[CV] END ......criterion=gini, max_depth=7, n_estimators=200; total time=   0.4s\n",
      "[CV] END ......criterion=gini, max_depth=7, n_estimators=400; total time=   0.9s\n",
      "[CV] END ......criterion=gini, max_depth=7, n_estimators=400; total time=   0.9s\n",
      "[CV] END ......criterion=gini, max_depth=7, n_estimators=400; total time=   0.9s\n",
      "[CV] END ......criterion=gini, max_depth=7, n_estimators=400; total time=   0.9s\n",
      "[CV] END ......criterion=gini, max_depth=7, n_estimators=400; total time=   0.9s\n",
      "[CV] END ......criterion=gini, max_depth=7, n_estimators=400; total time=   0.9s\n",
      "[CV] END ......criterion=gini, max_depth=7, n_estimators=400; total time=   0.9s\n",
      "[CV] END ......criterion=gini, max_depth=7, n_estimators=400; total time=   0.9s\n",
      "[CV] END ......criterion=gini, max_depth=7, n_estimators=400; total time=   0.9s\n",
      "[CV] END ......criterion=gini, max_depth=7, n_estimators=400; total time=   0.9s\n",
      "[CV] END ......criterion=gini, max_depth=7, n_estimators=800; total time=   1.8s\n",
      "[CV] END ......criterion=gini, max_depth=7, n_estimators=800; total time=   1.8s\n",
      "[CV] END ......criterion=gini, max_depth=7, n_estimators=800; total time=   1.8s\n",
      "[CV] END ......criterion=gini, max_depth=7, n_estimators=800; total time=   1.8s\n",
      "[CV] END ......criterion=gini, max_depth=7, n_estimators=800; total time=   1.8s\n",
      "[CV] END ......criterion=gini, max_depth=7, n_estimators=800; total time=   1.8s\n",
      "[CV] END ......criterion=gini, max_depth=7, n_estimators=800; total time=   1.8s\n",
      "[CV] END ......criterion=gini, max_depth=7, n_estimators=800; total time=   1.8s\n",
      "[CV] END ......criterion=gini, max_depth=7, n_estimators=800; total time=   2.0s\n",
      "[CV] END ......criterion=gini, max_depth=7, n_estimators=800; total time=   1.8s\n",
      "[CV] END .....criterion=gini, max_depth=10, n_estimators=200; total time=   0.5s\n",
      "[CV] END .....criterion=gini, max_depth=10, n_estimators=200; total time=   0.5s\n",
      "[CV] END .....criterion=gini, max_depth=10, n_estimators=200; total time=   0.5s\n",
      "[CV] END .....criterion=gini, max_depth=10, n_estimators=200; total time=   0.5s\n",
      "[CV] END .....criterion=gini, max_depth=10, n_estimators=200; total time=   0.5s\n",
      "[CV] END .....criterion=gini, max_depth=10, n_estimators=200; total time=   0.5s\n",
      "[CV] END .....criterion=gini, max_depth=10, n_estimators=200; total time=   0.5s\n",
      "[CV] END .....criterion=gini, max_depth=10, n_estimators=200; total time=   0.5s\n",
      "[CV] END .....criterion=gini, max_depth=10, n_estimators=200; total time=   0.5s\n",
      "[CV] END .....criterion=gini, max_depth=10, n_estimators=200; total time=   0.5s\n",
      "[CV] END .....criterion=gini, max_depth=10, n_estimators=400; total time=   1.0s\n",
      "[CV] END .....criterion=gini, max_depth=10, n_estimators=400; total time=   1.0s\n",
      "[CV] END .....criterion=gini, max_depth=10, n_estimators=400; total time=   1.0s\n",
      "[CV] END .....criterion=gini, max_depth=10, n_estimators=400; total time=   1.0s\n",
      "[CV] END .....criterion=gini, max_depth=10, n_estimators=400; total time=   1.0s\n",
      "[CV] END .....criterion=gini, max_depth=10, n_estimators=400; total time=   1.0s\n",
      "[CV] END .....criterion=gini, max_depth=10, n_estimators=400; total time=   1.0s\n",
      "[CV] END .....criterion=gini, max_depth=10, n_estimators=400; total time=   1.0s\n",
      "[CV] END .....criterion=gini, max_depth=10, n_estimators=400; total time=   1.0s\n",
      "[CV] END .....criterion=gini, max_depth=10, n_estimators=400; total time=   1.0s\n",
      "[CV] END .....criterion=gini, max_depth=10, n_estimators=800; total time=   2.0s\n",
      "[CV] END .....criterion=gini, max_depth=10, n_estimators=800; total time=   2.0s\n",
      "[CV] END .....criterion=gini, max_depth=10, n_estimators=800; total time=   2.0s\n",
      "[CV] END .....criterion=gini, max_depth=10, n_estimators=800; total time=   2.0s\n",
      "[CV] END .....criterion=gini, max_depth=10, n_estimators=800; total time=   2.0s\n",
      "[CV] END .....criterion=gini, max_depth=10, n_estimators=800; total time=   2.0s\n",
      "[CV] END .....criterion=gini, max_depth=10, n_estimators=800; total time=   2.0s\n",
      "[CV] END .....criterion=gini, max_depth=10, n_estimators=800; total time=   2.0s\n",
      "[CV] END .....criterion=gini, max_depth=10, n_estimators=800; total time=   2.0s\n",
      "[CV] END .....criterion=gini, max_depth=10, n_estimators=800; total time=   2.0s\n",
      "[CV] END .....criterion=gini, max_depth=15, n_estimators=200; total time=   0.5s\n",
      "[CV] END .....criterion=gini, max_depth=15, n_estimators=200; total time=   0.5s\n",
      "[CV] END .....criterion=gini, max_depth=15, n_estimators=200; total time=   0.5s\n",
      "[CV] END .....criterion=gini, max_depth=15, n_estimators=200; total time=   0.5s\n",
      "[CV] END .....criterion=gini, max_depth=15, n_estimators=200; total time=   0.5s\n",
      "[CV] END .....criterion=gini, max_depth=15, n_estimators=200; total time=   0.5s\n",
      "[CV] END .....criterion=gini, max_depth=15, n_estimators=200; total time=   0.5s\n",
      "[CV] END .....criterion=gini, max_depth=15, n_estimators=200; total time=   0.5s\n",
      "[CV] END .....criterion=gini, max_depth=15, n_estimators=200; total time=   0.5s\n",
      "[CV] END .....criterion=gini, max_depth=15, n_estimators=200; total time=   0.5s\n",
      "[CV] END .....criterion=gini, max_depth=15, n_estimators=400; total time=   1.0s\n"
     ]
    },
    {
     "name": "stdout",
     "output_type": "stream",
     "text": [
      "[CV] END .....criterion=gini, max_depth=15, n_estimators=400; total time=   1.1s\n",
      "[CV] END .....criterion=gini, max_depth=15, n_estimators=400; total time=   1.0s\n",
      "[CV] END .....criterion=gini, max_depth=15, n_estimators=400; total time=   1.0s\n",
      "[CV] END .....criterion=gini, max_depth=15, n_estimators=400; total time=   1.1s\n",
      "[CV] END .....criterion=gini, max_depth=15, n_estimators=400; total time=   1.1s\n",
      "[CV] END .....criterion=gini, max_depth=15, n_estimators=400; total time=   1.1s\n",
      "[CV] END .....criterion=gini, max_depth=15, n_estimators=400; total time=   1.1s\n",
      "[CV] END .....criterion=gini, max_depth=15, n_estimators=400; total time=   1.0s\n",
      "[CV] END .....criterion=gini, max_depth=15, n_estimators=400; total time=   1.0s\n",
      "[CV] END .....criterion=gini, max_depth=15, n_estimators=800; total time=   2.1s\n",
      "[CV] END .....criterion=gini, max_depth=15, n_estimators=800; total time=   2.0s\n",
      "[CV] END .....criterion=gini, max_depth=15, n_estimators=800; total time=   2.1s\n",
      "[CV] END .....criterion=gini, max_depth=15, n_estimators=800; total time=   2.1s\n",
      "[CV] END .....criterion=gini, max_depth=15, n_estimators=800; total time=   2.1s\n",
      "[CV] END .....criterion=gini, max_depth=15, n_estimators=800; total time=   2.1s\n",
      "[CV] END .....criterion=gini, max_depth=15, n_estimators=800; total time=   2.2s\n",
      "[CV] END .....criterion=gini, max_depth=15, n_estimators=800; total time=   2.1s\n",
      "[CV] END .....criterion=gini, max_depth=15, n_estimators=800; total time=   2.1s\n",
      "[CV] END .....criterion=gini, max_depth=15, n_estimators=800; total time=   2.1s\n",
      "[CV] END ...criterion=gini, max_depth=None, n_estimators=200; total time=   0.5s\n",
      "[CV] END ...criterion=gini, max_depth=None, n_estimators=200; total time=   0.5s\n",
      "[CV] END ...criterion=gini, max_depth=None, n_estimators=200; total time=   0.5s\n",
      "[CV] END ...criterion=gini, max_depth=None, n_estimators=200; total time=   0.5s\n",
      "[CV] END ...criterion=gini, max_depth=None, n_estimators=200; total time=   0.5s\n",
      "[CV] END ...criterion=gini, max_depth=None, n_estimators=200; total time=   0.5s\n",
      "[CV] END ...criterion=gini, max_depth=None, n_estimators=200; total time=   0.5s\n",
      "[CV] END ...criterion=gini, max_depth=None, n_estimators=200; total time=   0.5s\n",
      "[CV] END ...criterion=gini, max_depth=None, n_estimators=200; total time=   0.5s\n",
      "[CV] END ...criterion=gini, max_depth=None, n_estimators=200; total time=   0.5s\n",
      "[CV] END ...criterion=gini, max_depth=None, n_estimators=400; total time=   1.1s\n",
      "[CV] END ...criterion=gini, max_depth=None, n_estimators=400; total time=   1.1s\n",
      "[CV] END ...criterion=gini, max_depth=None, n_estimators=400; total time=   1.2s\n",
      "[CV] END ...criterion=gini, max_depth=None, n_estimators=400; total time=   1.1s\n",
      "[CV] END ...criterion=gini, max_depth=None, n_estimators=400; total time=   1.1s\n",
      "[CV] END ...criterion=gini, max_depth=None, n_estimators=400; total time=   1.1s\n",
      "[CV] END ...criterion=gini, max_depth=None, n_estimators=400; total time=   1.0s\n",
      "[CV] END ...criterion=gini, max_depth=None, n_estimators=400; total time=   1.1s\n",
      "[CV] END ...criterion=gini, max_depth=None, n_estimators=400; total time=   1.2s\n",
      "[CV] END ...criterion=gini, max_depth=None, n_estimators=400; total time=   1.1s\n",
      "[CV] END ...criterion=gini, max_depth=None, n_estimators=800; total time=   2.2s\n",
      "[CV] END ...criterion=gini, max_depth=None, n_estimators=800; total time=   2.1s\n",
      "[CV] END ...criterion=gini, max_depth=None, n_estimators=800; total time=   2.2s\n",
      "[CV] END ...criterion=gini, max_depth=None, n_estimators=800; total time=   2.1s\n",
      "[CV] END ...criterion=gini, max_depth=None, n_estimators=800; total time=   2.1s\n",
      "[CV] END ...criterion=gini, max_depth=None, n_estimators=800; total time=   2.1s\n",
      "[CV] END ...criterion=gini, max_depth=None, n_estimators=800; total time=   2.1s\n",
      "[CV] END ...criterion=gini, max_depth=None, n_estimators=800; total time=   2.3s\n",
      "[CV] END ...criterion=gini, max_depth=None, n_estimators=800; total time=   2.1s\n",
      "[CV] END ...criterion=gini, max_depth=None, n_estimators=800; total time=   2.3s\n",
      "[CV] END ..criterion=log_loss, max_depth=5, n_estimators=200; total time=   0.5s\n",
      "[CV] END ..criterion=log_loss, max_depth=5, n_estimators=200; total time=   0.4s\n",
      "[CV] END ..criterion=log_loss, max_depth=5, n_estimators=200; total time=   0.5s\n",
      "[CV] END ..criterion=log_loss, max_depth=5, n_estimators=200; total time=   0.4s\n",
      "[CV] END ..criterion=log_loss, max_depth=5, n_estimators=200; total time=   0.4s\n",
      "[CV] END ..criterion=log_loss, max_depth=5, n_estimators=200; total time=   0.4s\n",
      "[CV] END ..criterion=log_loss, max_depth=5, n_estimators=200; total time=   0.4s\n",
      "[CV] END ..criterion=log_loss, max_depth=5, n_estimators=200; total time=   0.4s\n",
      "[CV] END ..criterion=log_loss, max_depth=5, n_estimators=200; total time=   0.5s\n",
      "[CV] END ..criterion=log_loss, max_depth=5, n_estimators=200; total time=   0.4s\n",
      "[CV] END ..criterion=log_loss, max_depth=5, n_estimators=400; total time=   0.9s\n",
      "[CV] END ..criterion=log_loss, max_depth=5, n_estimators=400; total time=   0.8s\n",
      "[CV] END ..criterion=log_loss, max_depth=5, n_estimators=400; total time=   0.9s\n",
      "[CV] END ..criterion=log_loss, max_depth=5, n_estimators=400; total time=   0.9s\n",
      "[CV] END ..criterion=log_loss, max_depth=5, n_estimators=400; total time=   0.9s\n",
      "[CV] END ..criterion=log_loss, max_depth=5, n_estimators=400; total time=   0.8s\n",
      "[CV] END ..criterion=log_loss, max_depth=5, n_estimators=400; total time=   0.9s\n",
      "[CV] END ..criterion=log_loss, max_depth=5, n_estimators=400; total time=   0.8s\n",
      "[CV] END ..criterion=log_loss, max_depth=5, n_estimators=400; total time=   0.8s\n",
      "[CV] END ..criterion=log_loss, max_depth=5, n_estimators=400; total time=   0.9s\n",
      "[CV] END ..criterion=log_loss, max_depth=5, n_estimators=800; total time=   1.9s\n",
      "[CV] END ..criterion=log_loss, max_depth=5, n_estimators=800; total time=   1.8s\n",
      "[CV] END ..criterion=log_loss, max_depth=5, n_estimators=800; total time=   1.8s\n",
      "[CV] END ..criterion=log_loss, max_depth=5, n_estimators=800; total time=   1.7s\n",
      "[CV] END ..criterion=log_loss, max_depth=5, n_estimators=800; total time=   2.0s\n",
      "[CV] END ..criterion=log_loss, max_depth=5, n_estimators=800; total time=   1.9s\n",
      "[CV] END ..criterion=log_loss, max_depth=5, n_estimators=800; total time=   1.7s\n",
      "[CV] END ..criterion=log_loss, max_depth=5, n_estimators=800; total time=   1.7s\n",
      "[CV] END ..criterion=log_loss, max_depth=5, n_estimators=800; total time=   1.8s\n",
      "[CV] END ..criterion=log_loss, max_depth=5, n_estimators=800; total time=   1.8s\n",
      "[CV] END ..criterion=log_loss, max_depth=7, n_estimators=200; total time=   0.5s\n",
      "[CV] END ..criterion=log_loss, max_depth=7, n_estimators=200; total time=   0.5s\n",
      "[CV] END ..criterion=log_loss, max_depth=7, n_estimators=200; total time=   0.5s\n",
      "[CV] END ..criterion=log_loss, max_depth=7, n_estimators=200; total time=   0.5s\n",
      "[CV] END ..criterion=log_loss, max_depth=7, n_estimators=200; total time=   0.5s\n",
      "[CV] END ..criterion=log_loss, max_depth=7, n_estimators=200; total time=   0.6s\n",
      "[CV] END ..criterion=log_loss, max_depth=7, n_estimators=200; total time=   0.5s\n",
      "[CV] END ..criterion=log_loss, max_depth=7, n_estimators=200; total time=   0.5s\n",
      "[CV] END ..criterion=log_loss, max_depth=7, n_estimators=200; total time=   0.5s\n",
      "[CV] END ..criterion=log_loss, max_depth=7, n_estimators=200; total time=   0.6s\n",
      "[CV] END ..criterion=log_loss, max_depth=7, n_estimators=400; total time=   1.0s\n",
      "[CV] END ..criterion=log_loss, max_depth=7, n_estimators=400; total time=   1.0s\n",
      "[CV] END ..criterion=log_loss, max_depth=7, n_estimators=400; total time=   1.0s\n",
      "[CV] END ..criterion=log_loss, max_depth=7, n_estimators=400; total time=   1.0s\n",
      "[CV] END ..criterion=log_loss, max_depth=7, n_estimators=400; total time=   1.0s\n",
      "[CV] END ..criterion=log_loss, max_depth=7, n_estimators=400; total time=   1.1s\n",
      "[CV] END ..criterion=log_loss, max_depth=7, n_estimators=400; total time=   1.0s\n",
      "[CV] END ..criterion=log_loss, max_depth=7, n_estimators=400; total time=   1.0s\n",
      "[CV] END ..criterion=log_loss, max_depth=7, n_estimators=400; total time=   1.0s\n",
      "[CV] END ..criterion=log_loss, max_depth=7, n_estimators=400; total time=   0.9s\n",
      "[CV] END ..criterion=log_loss, max_depth=7, n_estimators=800; total time=   2.0s\n",
      "[CV] END ..criterion=log_loss, max_depth=7, n_estimators=800; total time=   1.9s\n",
      "[CV] END ..criterion=log_loss, max_depth=7, n_estimators=800; total time=   2.0s\n"
     ]
    },
    {
     "name": "stdout",
     "output_type": "stream",
     "text": [
      "[CV] END ..criterion=log_loss, max_depth=7, n_estimators=800; total time=   2.0s\n",
      "[CV] END ..criterion=log_loss, max_depth=7, n_estimators=800; total time=   1.9s\n",
      "[CV] END ..criterion=log_loss, max_depth=7, n_estimators=800; total time=   2.0s\n",
      "[CV] END ..criterion=log_loss, max_depth=7, n_estimators=800; total time=   2.2s\n",
      "[CV] END ..criterion=log_loss, max_depth=7, n_estimators=800; total time=   2.1s\n",
      "[CV] END ..criterion=log_loss, max_depth=7, n_estimators=800; total time=   1.9s\n",
      "[CV] END ..criterion=log_loss, max_depth=7, n_estimators=800; total time=   2.0s\n",
      "[CV] END .criterion=log_loss, max_depth=10, n_estimators=200; total time=   0.7s\n",
      "[CV] END .criterion=log_loss, max_depth=10, n_estimators=200; total time=   0.5s\n",
      "[CV] END .criterion=log_loss, max_depth=10, n_estimators=200; total time=   0.5s\n",
      "[CV] END .criterion=log_loss, max_depth=10, n_estimators=200; total time=   0.5s\n",
      "[CV] END .criterion=log_loss, max_depth=10, n_estimators=200; total time=   0.5s\n",
      "[CV] END .criterion=log_loss, max_depth=10, n_estimators=200; total time=   0.5s\n",
      "[CV] END .criterion=log_loss, max_depth=10, n_estimators=200; total time=   0.5s\n",
      "[CV] END .criterion=log_loss, max_depth=10, n_estimators=200; total time=   0.5s\n",
      "[CV] END .criterion=log_loss, max_depth=10, n_estimators=200; total time=   0.5s\n",
      "[CV] END .criterion=log_loss, max_depth=10, n_estimators=200; total time=   0.5s\n",
      "[CV] END .criterion=log_loss, max_depth=10, n_estimators=400; total time=   1.1s\n",
      "[CV] END .criterion=log_loss, max_depth=10, n_estimators=400; total time=   1.0s\n",
      "[CV] END .criterion=log_loss, max_depth=10, n_estimators=400; total time=   1.1s\n",
      "[CV] END .criterion=log_loss, max_depth=10, n_estimators=400; total time=   1.1s\n",
      "[CV] END .criterion=log_loss, max_depth=10, n_estimators=400; total time=   1.1s\n",
      "[CV] END .criterion=log_loss, max_depth=10, n_estimators=400; total time=   1.1s\n",
      "[CV] END .criterion=log_loss, max_depth=10, n_estimators=400; total time=   1.3s\n",
      "[CV] END .criterion=log_loss, max_depth=10, n_estimators=400; total time=   1.1s\n",
      "[CV] END .criterion=log_loss, max_depth=10, n_estimators=400; total time=   1.1s\n",
      "[CV] END .criterion=log_loss, max_depth=10, n_estimators=400; total time=   1.1s\n",
      "[CV] END .criterion=log_loss, max_depth=10, n_estimators=800; total time=   2.3s\n",
      "[CV] END .criterion=log_loss, max_depth=10, n_estimators=800; total time=   2.2s\n",
      "[CV] END .criterion=log_loss, max_depth=10, n_estimators=800; total time=   2.2s\n",
      "[CV] END .criterion=log_loss, max_depth=10, n_estimators=800; total time=   2.3s\n",
      "[CV] END .criterion=log_loss, max_depth=10, n_estimators=800; total time=   2.2s\n",
      "[CV] END .criterion=log_loss, max_depth=10, n_estimators=800; total time=   2.2s\n",
      "[CV] END .criterion=log_loss, max_depth=10, n_estimators=800; total time=   2.1s\n",
      "[CV] END .criterion=log_loss, max_depth=10, n_estimators=800; total time=   2.1s\n",
      "[CV] END .criterion=log_loss, max_depth=10, n_estimators=800; total time=   2.1s\n",
      "[CV] END .criterion=log_loss, max_depth=10, n_estimators=800; total time=   2.1s\n",
      "[CV] END .criterion=log_loss, max_depth=15, n_estimators=200; total time=   0.6s\n",
      "[CV] END .criterion=log_loss, max_depth=15, n_estimators=200; total time=   0.6s\n",
      "[CV] END .criterion=log_loss, max_depth=15, n_estimators=200; total time=   0.6s\n",
      "[CV] END .criterion=log_loss, max_depth=15, n_estimators=200; total time=   0.6s\n",
      "[CV] END .criterion=log_loss, max_depth=15, n_estimators=200; total time=   0.6s\n",
      "[CV] END .criterion=log_loss, max_depth=15, n_estimators=200; total time=   0.6s\n",
      "[CV] END .criterion=log_loss, max_depth=15, n_estimators=200; total time=   0.6s\n",
      "[CV] END .criterion=log_loss, max_depth=15, n_estimators=200; total time=   0.6s\n",
      "[CV] END .criterion=log_loss, max_depth=15, n_estimators=200; total time=   0.6s\n",
      "[CV] END .criterion=log_loss, max_depth=15, n_estimators=200; total time=   0.6s\n",
      "[CV] END .criterion=log_loss, max_depth=15, n_estimators=400; total time=   1.1s\n",
      "[CV] END .criterion=log_loss, max_depth=15, n_estimators=400; total time=   1.1s\n",
      "[CV] END .criterion=log_loss, max_depth=15, n_estimators=400; total time=   1.1s\n",
      "[CV] END .criterion=log_loss, max_depth=15, n_estimators=400; total time=   1.2s\n",
      "[CV] END .criterion=log_loss, max_depth=15, n_estimators=400; total time=   1.2s\n",
      "[CV] END .criterion=log_loss, max_depth=15, n_estimators=400; total time=   1.2s\n",
      "[CV] END .criterion=log_loss, max_depth=15, n_estimators=400; total time=   1.2s\n",
      "[CV] END .criterion=log_loss, max_depth=15, n_estimators=400; total time=   1.1s\n",
      "[CV] END .criterion=log_loss, max_depth=15, n_estimators=400; total time=   1.2s\n",
      "[CV] END .criterion=log_loss, max_depth=15, n_estimators=400; total time=   1.2s\n",
      "[CV] END .criterion=log_loss, max_depth=15, n_estimators=800; total time=   2.6s\n",
      "[CV] END .criterion=log_loss, max_depth=15, n_estimators=800; total time=   2.3s\n",
      "[CV] END .criterion=log_loss, max_depth=15, n_estimators=800; total time=   2.6s\n",
      "[CV] END .criterion=log_loss, max_depth=15, n_estimators=800; total time=   2.2s\n",
      "[CV] END .criterion=log_loss, max_depth=15, n_estimators=800; total time=   2.3s\n",
      "[CV] END .criterion=log_loss, max_depth=15, n_estimators=800; total time=   2.4s\n",
      "[CV] END .criterion=log_loss, max_depth=15, n_estimators=800; total time=   2.3s\n",
      "[CV] END .criterion=log_loss, max_depth=15, n_estimators=800; total time=   2.3s\n",
      "[CV] END .criterion=log_loss, max_depth=15, n_estimators=800; total time=   2.4s\n",
      "[CV] END .criterion=log_loss, max_depth=15, n_estimators=800; total time=   2.3s\n",
      "[CV] END criterion=log_loss, max_depth=None, n_estimators=200; total time=   0.6s\n",
      "[CV] END criterion=log_loss, max_depth=None, n_estimators=200; total time=   0.7s\n",
      "[CV] END criterion=log_loss, max_depth=None, n_estimators=200; total time=   0.7s\n",
      "[CV] END criterion=log_loss, max_depth=None, n_estimators=200; total time=   0.6s\n",
      "[CV] END criterion=log_loss, max_depth=None, n_estimators=200; total time=   0.6s\n",
      "[CV] END criterion=log_loss, max_depth=None, n_estimators=200; total time=   0.6s\n",
      "[CV] END criterion=log_loss, max_depth=None, n_estimators=200; total time=   0.6s\n",
      "[CV] END criterion=log_loss, max_depth=None, n_estimators=200; total time=   0.6s\n",
      "[CV] END criterion=log_loss, max_depth=None, n_estimators=200; total time=   0.6s\n",
      "[CV] END criterion=log_loss, max_depth=None, n_estimators=200; total time=   0.6s\n",
      "[CV] END criterion=log_loss, max_depth=None, n_estimators=400; total time=   1.3s\n",
      "[CV] END criterion=log_loss, max_depth=None, n_estimators=400; total time=   1.3s\n",
      "[CV] END criterion=log_loss, max_depth=None, n_estimators=400; total time=   1.2s\n",
      "[CV] END criterion=log_loss, max_depth=None, n_estimators=400; total time=   1.2s\n",
      "[CV] END criterion=log_loss, max_depth=None, n_estimators=400; total time=   1.2s\n",
      "[CV] END criterion=log_loss, max_depth=None, n_estimators=400; total time=   1.2s\n",
      "[CV] END criterion=log_loss, max_depth=None, n_estimators=400; total time=   1.2s\n",
      "[CV] END criterion=log_loss, max_depth=None, n_estimators=400; total time=   1.2s\n",
      "[CV] END criterion=log_loss, max_depth=None, n_estimators=400; total time=   1.2s\n",
      "[CV] END criterion=log_loss, max_depth=None, n_estimators=400; total time=   1.2s\n",
      "[CV] END criterion=log_loss, max_depth=None, n_estimators=800; total time=   2.5s\n",
      "[CV] END criterion=log_loss, max_depth=None, n_estimators=800; total time=   2.3s\n",
      "[CV] END criterion=log_loss, max_depth=None, n_estimators=800; total time=   2.3s\n",
      "[CV] END criterion=log_loss, max_depth=None, n_estimators=800; total time=   2.3s\n",
      "[CV] END criterion=log_loss, max_depth=None, n_estimators=800; total time=   2.3s\n",
      "[CV] END criterion=log_loss, max_depth=None, n_estimators=800; total time=   2.3s\n",
      "[CV] END criterion=log_loss, max_depth=None, n_estimators=800; total time=   2.3s\n",
      "[CV] END criterion=log_loss, max_depth=None, n_estimators=800; total time=   2.4s\n",
      "[CV] END criterion=log_loss, max_depth=None, n_estimators=800; total time=   2.3s\n",
      "[CV] END criterion=log_loss, max_depth=None, n_estimators=800; total time=   2.4s\n"
     ]
    },
    {
     "data": {
      "text/html": [
       "<style>#sk-container-id-3 {color: black;background-color: white;}#sk-container-id-3 pre{padding: 0;}#sk-container-id-3 div.sk-toggleable {background-color: white;}#sk-container-id-3 label.sk-toggleable__label {cursor: pointer;display: block;width: 100%;margin-bottom: 0;padding: 0.3em;box-sizing: border-box;text-align: center;}#sk-container-id-3 label.sk-toggleable__label-arrow:before {content: \"▸\";float: left;margin-right: 0.25em;color: #696969;}#sk-container-id-3 label.sk-toggleable__label-arrow:hover:before {color: black;}#sk-container-id-3 div.sk-estimator:hover label.sk-toggleable__label-arrow:before {color: black;}#sk-container-id-3 div.sk-toggleable__content {max-height: 0;max-width: 0;overflow: hidden;text-align: left;background-color: #f0f8ff;}#sk-container-id-3 div.sk-toggleable__content pre {margin: 0.2em;color: black;border-radius: 0.25em;background-color: #f0f8ff;}#sk-container-id-3 input.sk-toggleable__control:checked~div.sk-toggleable__content {max-height: 200px;max-width: 100%;overflow: auto;}#sk-container-id-3 input.sk-toggleable__control:checked~label.sk-toggleable__label-arrow:before {content: \"▾\";}#sk-container-id-3 div.sk-estimator input.sk-toggleable__control:checked~label.sk-toggleable__label {background-color: #d4ebff;}#sk-container-id-3 div.sk-label input.sk-toggleable__control:checked~label.sk-toggleable__label {background-color: #d4ebff;}#sk-container-id-3 input.sk-hidden--visually {border: 0;clip: rect(1px 1px 1px 1px);clip: rect(1px, 1px, 1px, 1px);height: 1px;margin: -1px;overflow: hidden;padding: 0;position: absolute;width: 1px;}#sk-container-id-3 div.sk-estimator {font-family: monospace;background-color: #f0f8ff;border: 1px dotted black;border-radius: 0.25em;box-sizing: border-box;margin-bottom: 0.5em;}#sk-container-id-3 div.sk-estimator:hover {background-color: #d4ebff;}#sk-container-id-3 div.sk-parallel-item::after {content: \"\";width: 100%;border-bottom: 1px solid gray;flex-grow: 1;}#sk-container-id-3 div.sk-label:hover label.sk-toggleable__label {background-color: #d4ebff;}#sk-container-id-3 div.sk-serial::before {content: \"\";position: absolute;border-left: 1px solid gray;box-sizing: border-box;top: 0;bottom: 0;left: 50%;z-index: 0;}#sk-container-id-3 div.sk-serial {display: flex;flex-direction: column;align-items: center;background-color: white;padding-right: 0.2em;padding-left: 0.2em;position: relative;}#sk-container-id-3 div.sk-item {position: relative;z-index: 1;}#sk-container-id-3 div.sk-parallel {display: flex;align-items: stretch;justify-content: center;background-color: white;position: relative;}#sk-container-id-3 div.sk-item::before, #sk-container-id-3 div.sk-parallel-item::before {content: \"\";position: absolute;border-left: 1px solid gray;box-sizing: border-box;top: 0;bottom: 0;left: 50%;z-index: -1;}#sk-container-id-3 div.sk-parallel-item {display: flex;flex-direction: column;z-index: 1;position: relative;background-color: white;}#sk-container-id-3 div.sk-parallel-item:first-child::after {align-self: flex-end;width: 50%;}#sk-container-id-3 div.sk-parallel-item:last-child::after {align-self: flex-start;width: 50%;}#sk-container-id-3 div.sk-parallel-item:only-child::after {width: 0;}#sk-container-id-3 div.sk-dashed-wrapped {border: 1px dashed gray;margin: 0 0.4em 0.5em 0.4em;box-sizing: border-box;padding-bottom: 0.4em;background-color: white;}#sk-container-id-3 div.sk-label label {font-family: monospace;font-weight: bold;display: inline-block;line-height: 1.2em;}#sk-container-id-3 div.sk-label-container {text-align: center;}#sk-container-id-3 div.sk-container {/* jupyter's `normalize.less` sets `[hidden] { display: none; }` but bootstrap.min.css set `[hidden] { display: none !important; }` so we also need the `!important` here to be able to override the default hidden behavior on the sphinx rendered scikit-learn.org. See: https://github.com/scikit-learn/scikit-learn/issues/21755 */display: inline-block !important;position: relative;}#sk-container-id-3 div.sk-text-repr-fallback {display: none;}</style><div id=\"sk-container-id-3\" class=\"sk-top-container\"><div class=\"sk-text-repr-fallback\"><pre>GridSearchCV(cv=10, estimator=RandomForestClassifier(),\n",
       "             param_grid={&#x27;criterion&#x27;: [&#x27;gini&#x27;, &#x27;log_loss&#x27;],\n",
       "                         &#x27;max_depth&#x27;: [5, 7, 10, 15, None],\n",
       "                         &#x27;n_estimators&#x27;: [200, 400, 800]},\n",
       "             verbose=2)</pre><b>In a Jupyter environment, please rerun this cell to show the HTML representation or trust the notebook. <br />On GitHub, the HTML representation is unable to render, please try loading this page with nbviewer.org.</b></div><div class=\"sk-container\" hidden><div class=\"sk-item sk-dashed-wrapped\"><div class=\"sk-label-container\"><div class=\"sk-label sk-toggleable\"><input class=\"sk-toggleable__control sk-hidden--visually\" id=\"sk-estimator-id-3\" type=\"checkbox\" ><label for=\"sk-estimator-id-3\" class=\"sk-toggleable__label sk-toggleable__label-arrow\">GridSearchCV</label><div class=\"sk-toggleable__content\"><pre>GridSearchCV(cv=10, estimator=RandomForestClassifier(),\n",
       "             param_grid={&#x27;criterion&#x27;: [&#x27;gini&#x27;, &#x27;log_loss&#x27;],\n",
       "                         &#x27;max_depth&#x27;: [5, 7, 10, 15, None],\n",
       "                         &#x27;n_estimators&#x27;: [200, 400, 800]},\n",
       "             verbose=2)</pre></div></div></div><div class=\"sk-parallel\"><div class=\"sk-parallel-item\"><div class=\"sk-item\"><div class=\"sk-label-container\"><div class=\"sk-label sk-toggleable\"><input class=\"sk-toggleable__control sk-hidden--visually\" id=\"sk-estimator-id-4\" type=\"checkbox\" ><label for=\"sk-estimator-id-4\" class=\"sk-toggleable__label sk-toggleable__label-arrow\">estimator: RandomForestClassifier</label><div class=\"sk-toggleable__content\"><pre>RandomForestClassifier()</pre></div></div></div><div class=\"sk-serial\"><div class=\"sk-item\"><div class=\"sk-estimator sk-toggleable\"><input class=\"sk-toggleable__control sk-hidden--visually\" id=\"sk-estimator-id-5\" type=\"checkbox\" ><label for=\"sk-estimator-id-5\" class=\"sk-toggleable__label sk-toggleable__label-arrow\">RandomForestClassifier</label><div class=\"sk-toggleable__content\"><pre>RandomForestClassifier()</pre></div></div></div></div></div></div></div></div></div></div>"
      ],
      "text/plain": [
       "GridSearchCV(cv=10, estimator=RandomForestClassifier(),\n",
       "             param_grid={'criterion': ['gini', 'log_loss'],\n",
       "                         'max_depth': [5, 7, 10, 15, None],\n",
       "                         'n_estimators': [200, 400, 800]},\n",
       "             verbose=2)"
      ]
     },
     "execution_count": 21,
     "metadata": {},
     "output_type": "execute_result"
    }
   ],
   "source": [
    "estimator.fit(x_train,y_train)"
   ]
  },
  {
   "cell_type": "code",
   "execution_count": null,
   "id": "518da860",
   "metadata": {},
   "outputs": [],
   "source": [
    "estimator.best_params_"
   ]
  },
  {
   "cell_type": "code",
   "execution_count": null,
   "id": "397e19af",
   "metadata": {},
   "outputs": [],
   "source": [
    "pd.Series(model.feature_importances_, index=X.columns).plot.barh()\n",
    "plt.title(\"Feature importance\")\n",
    "plt.show()"
   ]
  },
  {
   "cell_type": "code",
   "execution_count": null,
   "id": "76c7d01d",
   "metadata": {},
   "outputs": [],
   "source": []
  }
 ],
 "metadata": {
  "kernelspec": {
   "display_name": "Python 3 (ipykernel)",
   "language": "python",
   "name": "python3"
  },
  "language_info": {
   "codemirror_mode": {
    "name": "ipython",
    "version": 3
   },
   "file_extension": ".py",
   "mimetype": "text/x-python",
   "name": "python",
   "nbconvert_exporter": "python",
   "pygments_lexer": "ipython3",
   "version": "3.10.12"
  }
 },
 "nbformat": 4,
 "nbformat_minor": 5
}
